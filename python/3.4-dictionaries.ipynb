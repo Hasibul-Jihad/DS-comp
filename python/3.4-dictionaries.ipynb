{
 "cells": [
  {
   "cell_type": "markdown",
   "id": "9f755302",
   "metadata": {},
   "source": [
    "Dictionaries store data in key - value pairs. Dictionaries are mutable"
   ]
  },
  {
   "cell_type": "code",
   "execution_count": null,
   "id": "e097c31b",
   "metadata": {},
   "outputs": [
    {
     "name": "stdout",
     "output_type": "stream",
     "text": [
      "{}\n"
     ]
    }
   ],
   "source": [
    "#create an empty dictionary\n",
    "my_dict = {}\n",
    "print(my_dict)\n",
    "\n",
    "#alternative way to create an empty dictionary\n",
    "my_dict = dict()\n",
    "print(my_dict)"
   ]
  },
  {
   "cell_type": "code",
   "execution_count": 3,
   "id": "f9b24b6e",
   "metadata": {},
   "outputs": [
    {
     "name": "stdout",
     "output_type": "stream",
     "text": [
      "{'key1': 'value1', 'key2': 'value2'}\n",
      "value1\n",
      "value2\n"
     ]
    }
   ],
   "source": [
    "#creating a dictionary with key-value pairs\n",
    "my_dict = {\"key1\": \"value1\", \"key2\": \"value2\"}\n",
    "print(my_dict)\n",
    "\n",
    "#accessing values using keys\n",
    "print(my_dict[\"key1\"])\n",
    "\n",
    "#accessing values using get() method\n",
    "print(my_dict.get(\"key2\"))\n",
    "\n",
    "\n"
   ]
  },
  {
   "cell_type": "code",
   "execution_count": 4,
   "id": "67125483",
   "metadata": {},
   "outputs": [
    {
     "name": "stdout",
     "output_type": "stream",
     "text": [
      "{'key1': 'value1', 'key2': 'value2', 'key3': 'value3'}\n",
      "{'key1': 'new_value1', 'key2': 'value2', 'key3': 'value3'}\n",
      "{'key1': 'new_value1', 'key3': 'value3'}\n",
      "True\n",
      "False\n"
     ]
    }
   ],
   "source": [
    "#adding a new key-value pair\n",
    "my_dict[\"key3\"] = \"value3\"\n",
    "print(my_dict)\n",
    "\n",
    "#updating an existing key-value pair\n",
    "my_dict[\"key1\"] = \"new_value1\"\n",
    "print(my_dict)\n",
    "\n",
    "#deleting a key-value pair\n",
    "del my_dict[\"key2\"]\n",
    "print(my_dict)\n",
    "\n",
    "#checking if a key exists\n",
    "print(\"key1\" in my_dict)\n",
    "print(\"key2\" in my_dict)"
   ]
  },
  {
   "cell_type": "code",
   "execution_count": 5,
   "id": "a29ef818",
   "metadata": {},
   "outputs": [
    {
     "name": "stdout",
     "output_type": "stream",
     "text": [
      "dict_keys(['key1', 'key3'])\n",
      "dict_values(['new_value1', 'value3'])\n",
      "dict_items([('key1', 'new_value1'), ('key3', 'value3')])\n",
      "{}\n"
     ]
    }
   ],
   "source": [
    "#dictionary methods\n",
    "print(my_dict.keys())    #returns all keys\n",
    "print(my_dict.values())  #returns all values\n",
    "print(my_dict.items())   #returns all key-value pairs\n",
    "#clearing the dictionary\n",
    "my_dict.clear()\n",
    "print(my_dict)\n"
   ]
  },
  {
   "cell_type": "code",
   "execution_count": 11,
   "id": "027a7df6",
   "metadata": {},
   "outputs": [
    {
     "name": "stdout",
     "output_type": "stream",
     "text": [
      "{'a': 1, 'b': 2}\n",
      "{'a': 1, 'b': 3}\n",
      "{'a': 1, 'b': 3}\n"
     ]
    }
   ],
   "source": [
    "#general copy of a dictionary\n",
    "original_dict = {\"a\": 1, \"b\": 2}\n",
    "copied_dict = original_dict\n",
    "print(copied_dict)\n",
    "\n",
    "\n",
    "original_dict[\"b\"] = 3\n",
    "print(original_dict)\n",
    "print(copied_dict)"
   ]
  },
  {
   "cell_type": "code",
   "execution_count": 12,
   "id": "442ded85",
   "metadata": {},
   "outputs": [
    {
     "name": "stdout",
     "output_type": "stream",
     "text": [
      "{'a': 1, 'b': 2}\n",
      "{'a': 1, 'b': 3}\n",
      "{'a': 1, 'b': 2}\n"
     ]
    }
   ],
   "source": [
    "#shallow copy of a dictionary\n",
    "original_dict = {\"a\": 1, \"b\": 2}\n",
    "copied_dict = original_dict.copy()\n",
    "print(copied_dict)\n",
    "\n",
    "original_dict[\"b\"] = 3\n",
    "print(original_dict)\n",
    "print(copied_dict)"
   ]
  },
  {
   "cell_type": "code",
   "execution_count": 19,
   "id": "79f316cf",
   "metadata": {},
   "outputs": [
    {
     "name": "stdout",
     "output_type": "stream",
     "text": [
      "x\n",
      "y\n",
      "z\n",
      "10\n",
      "20\n",
      "30\n",
      "x : 10\n",
      "y : 20\n",
      "z : 30\n"
     ]
    }
   ],
   "source": [
    "#iterating through a dictionary\n",
    "my_dict = {\"x\": 10, \"y\": 20, \"z\": 30}\n",
    "for keys in my_dict.keys():\n",
    "    print(keys)\n",
    "    \n",
    "for values in my_dict.values():\n",
    "    print(values)\n",
    "\n",
    "for key, value in my_dict.items():\n",
    "    print(key, \":\", value)"
   ]
  },
  {
   "cell_type": "code",
   "execution_count": 21,
   "id": "9e0f958f",
   "metadata": {},
   "outputs": [
    {
     "name": "stdout",
     "output_type": "stream",
     "text": [
      "{'student1': {'name': 'Alice', 'age': 20}, 'student2': {'name': 'Bob', 'age': 22}}\n"
     ]
    }
   ],
   "source": [
    "#nested dictionaries\n",
    "students = {\n",
    "    \"student1\": {\"name\": \"Alice\", \"age\": 20},\n",
    "    \"student2\": {\"name\": \"Bob\", \"age\": 22}\n",
    "}\n",
    "print(students)"
   ]
  },
  {
   "cell_type": "code",
   "execution_count": 22,
   "id": "2f6e8137",
   "metadata": {},
   "outputs": [
    {
     "name": "stdout",
     "output_type": "stream",
     "text": [
      "Alice\n",
      "20\n",
      "Bob\n",
      "22\n"
     ]
    }
   ],
   "source": [
    "#accessing nested dictionary values\n",
    "print(students[\"student1\"][\"name\"])\n",
    "print(students[\"student1\"][\"age\"])\n",
    "print(students[\"student2\"][\"name\"])\n",
    "print(students[\"student2\"][\"age\"])"
   ]
  },
  {
   "cell_type": "code",
   "execution_count": 26,
   "id": "5f173372",
   "metadata": {},
   "outputs": [
    {
     "name": "stdout",
     "output_type": "stream",
     "text": [
      "student1 : {'name': 'Alice', 'age': 20}\n",
      "  name: Alice\n",
      "  age: 20\n",
      "student2 : {'name': 'Bob', 'age': 22}\n",
      "  name: Bob\n",
      "  age: 22\n"
     ]
    }
   ],
   "source": [
    "#iterating through a nested dictionary\n",
    "for student, info in students.items():\n",
    "    print(f\"{student} : {info}\")\n",
    "    for key, value in info.items():\n",
    "        print(f\"  {key}: {value}\")"
   ]
  },
  {
   "cell_type": "code",
   "execution_count": 27,
   "id": "dc7c345c",
   "metadata": {},
   "outputs": [
    {
     "name": "stdout",
     "output_type": "stream",
     "text": [
      "{0: 0, 1: 1, 2: 4, 3: 9, 4: 16}\n"
     ]
    }
   ],
   "source": [
    "#dictionary comprehension\n",
    "squared_dict = {x: x**2 for x in range(5)}\n",
    "print(squared_dict)"
   ]
  },
  {
   "cell_type": "code",
   "execution_count": 28,
   "id": "9393507f",
   "metadata": {},
   "outputs": [
    {
     "name": "stdout",
     "output_type": "stream",
     "text": [
      "{0: 0, 2: 4, 4: 16, 6: 36, 8: 64}\n"
     ]
    }
   ],
   "source": [
    "#condition dictionary comprehension\n",
    "even_squared_dict = {x: x**2 for x in range(10) if x % 2 == 0}\n",
    "print(even_squared_dict)"
   ]
  },
  {
   "cell_type": "code",
   "execution_count": 29,
   "id": "5e3f6c82",
   "metadata": {},
   "outputs": [
    {
     "name": "stdout",
     "output_type": "stream",
     "text": [
      "{'apple': 3, 'banana': 2, 'orange': 2}\n"
     ]
    }
   ],
   "source": [
    "#practical exercises\n",
    "#use a diictionary to count the frequency of the elements in a list\n",
    "elements = ['apple', 'banana', 'orange', 'apple', 'orange', 'banana', 'apple']\n",
    "frequency = {}\n",
    "for item in elements:\n",
    "    frequency[item] = frequency.get(item, 0) + 1\n",
    "print(frequency)"
   ]
  }
 ],
 "metadata": {
  "kernelspec": {
   "display_name": "Python 3",
   "language": "python",
   "name": "python3"
  },
  "language_info": {
   "codemirror_mode": {
    "name": "ipython",
    "version": 3
   },
   "file_extension": ".py",
   "mimetype": "text/x-python",
   "name": "python",
   "nbconvert_exporter": "python",
   "pygments_lexer": "ipython3",
   "version": "3.12.0"
  }
 },
 "nbformat": 4,
 "nbformat_minor": 5
}
