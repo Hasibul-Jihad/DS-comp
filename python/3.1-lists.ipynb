{
 "cells": [
  {
   "cell_type": "markdown",
   "id": "97debd0e",
   "metadata": {},
   "source": [
    "### lists are mutable\n",
    "it's an object whose contents or state can be changed after it's created."
   ]
  },
  {
   "cell_type": "code",
   "execution_count": 2,
   "id": "d910fbb2",
   "metadata": {},
   "outputs": [
    {
     "name": "stdout",
     "output_type": "stream",
     "text": [
      "<class 'list'>\n"
     ]
    }
   ],
   "source": [
    "lst = []\n",
    "print(type(lst))\n"
   ]
  },
  {
   "cell_type": "code",
   "execution_count": 4,
   "id": "926e4e4a",
   "metadata": {},
   "outputs": [
    {
     "name": "stdout",
     "output_type": "stream",
     "text": [
      "<class 'list'>\n",
      "[1, 2.5, 'hello', True]\n"
     ]
    }
   ],
   "source": [
    "#lists can hold different data types\n",
    "lst = [1, 2.5, \"hello\", True]\n",
    "print(type(lst))\n",
    "print(lst)"
   ]
  },
  {
   "cell_type": "code",
   "execution_count": 6,
   "id": "2ff144ce",
   "metadata": {},
   "outputs": [
    {
     "name": "stdout",
     "output_type": "stream",
     "text": [
      "1\n",
      "2.5\n",
      "hello\n",
      "True\n",
      "True\n",
      "hello\n",
      "2.5\n",
      "1\n"
     ]
    }
   ],
   "source": [
    "#accesing list items\n",
    "print(lst[0])\n",
    "print(lst[1])\n",
    "print(lst[2])\n",
    "print(lst[3])\n",
    "print(lst[-1])\n",
    "print(lst[-2])\n",
    "print(lst[-3])\n",
    "print(lst[-4])"
   ]
  },
  {
   "cell_type": "code",
   "execution_count": null,
   "id": "91fa8d42",
   "metadata": {},
   "outputs": [
    {
     "name": "stdout",
     "output_type": "stream",
     "text": [
      "[2.5, 'hello', True]\n",
      "[1, 2.5, 'hello']\n",
      "[2.5, 'hello']\n",
      "[1, 2.5, 'hello', True]\n",
      "[1, 'hello']\n",
      "[True, 'hello', 2.5, 1]\n",
      "[1, True]\n",
      "[2.5, 'hello']\n",
      "[]\n",
      "[True, 'hello']\n",
      "[2.5, 'hello']\n",
      "[2.5]\n",
      "[]\n",
      "[True, 'hello']\n",
      "[]\n",
      "[]\n"
     ]
    }
   ],
   "source": [
    "lst = [1, 2.5, \"hello\", True]\n",
    "print(lst[1:])\n",
    "print(lst[:3])\n",
    "print(lst[1:3])\n",
    "print(lst[:])\n",
    "print(lst[::2])\n",
    "'''it will take every second element. explanation: start at index 0, go to the end, take every second element. here it will take 1 and \"hello\"'''\n",
    "print(lst[::-1])\n",
    "'''it will reverse the list. explanation: start at index 0, go to the end, take every second element in reverse order. here it will take True and 2.5'''\n",
    "print(lst[::3])\n",
    "'''it will take every third element. explanation: start at index 0, go to the end, take every third element. here it will take 1 and True'''\n",
    "print(lst[-3:-1])\n",
    "'''it will take elements from index -3 to -1 (not including -1). here it will take 2.5 and \"hello\"'''\n",
    "print(lst[-1:-3])  #empty list\n",
    "'''it will take elements from index -1 to -3 (not including -3). here it will take nothing because -1 is greater than -3'''\n",
    "print(lst[-1:-3:-1])\n",
    "'''it will take elements from index -1 to -3 (not including -3) in reverse order. here it will take True and \"hello\"'''\n",
    "print(lst[-3:-1:1])\n",
    "'''it will take elements from index -3 to -1 (not including -1). here it will take 2.5 and \"hello\"'''\n",
    "print(lst[-3:-1:2])\n",
    "'''it will take every second element from index -3 to -1 (not including -1). here it will take only 2.5'''\n",
    "print(lst[-3:-1:-1])  #empty list\n",
    "'''it will take elements from index -3 to -1 (not including -1) in reverse order. here it will take nothing because -3 is less than -1'''\n",
    "print(lst[-1:-3:-1])\n",
    "print(lst[-1:-3:1])  #empty list\n",
    "print(lst[-1:-3:2])  #empty list"
   ]
  },
  {
   "cell_type": "code",
   "execution_count": 10,
   "id": "4aefba9b",
   "metadata": {},
   "outputs": [
    {
     "name": "stdout",
     "output_type": "stream",
     "text": [
      "[100, 2.5, 'hello', True]\n"
     ]
    }
   ],
   "source": [
    "#modifying list elements\n",
    "lst[0] = 100\n",
    "print(lst)"
   ]
  },
  {
   "cell_type": "code",
   "execution_count": null,
   "id": "e4dbdcc5",
   "metadata": {},
   "outputs": [
    {
     "name": "stdout",
     "output_type": "stream",
     "text": [
      "el\n",
      "hell\n",
      "hlo\n",
      "olleh\n",
      "hello\n"
     ]
    },
    {
     "data": {
      "text/plain": [
       "['h', 'b', 'a', 't', 'm', 'a', 'n']"
      ]
     },
     "execution_count": 17,
     "metadata": {},
     "output_type": "execute_result"
    }
   ],
   "source": [
    "#picking characters instead of words\n",
    "word = \"hello\"\n",
    "print(word[1:3])\n",
    "print(word[:4])\n",
    "print(word[::2])\n",
    "print(word[::-1])\n",
    "words = list(word)#converts string to list of characters\n",
    "print(words)"
   ]
  },
  {
   "cell_type": "code",
   "execution_count": 21,
   "id": "ce24b43d",
   "metadata": {},
   "outputs": [
    {
     "data": {
      "text/plain": [
       "['b', 'a', 't', 'm', 'a', 'n']"
      ]
     },
     "execution_count": 21,
     "metadata": {},
     "output_type": "execute_result"
    }
   ],
   "source": [
    "words[:]=\"batman\"  #error, strings are immutable\n",
    "words"
   ]
  },
  {
   "cell_type": "code",
   "execution_count": 27,
   "id": "3abef9ef",
   "metadata": {},
   "outputs": [
    {
     "name": "stdout",
     "output_type": "stream",
     "text": [
      "apple, banana, cherry, date, tangerine\n",
      "['apple', 'banana', 'cherry', 'date', 'tangerine']\n",
      "['tangerine', 'date', 'cherry', 'banana', 'apple']\n",
      "['tangerine', 'date', 'cherry', 'banana', 'apple', 'kiwi']\n",
      "['tangerine', 'orange', 'date', 'cherry', 'banana', 'apple', 'kiwi']\n",
      "['tangerine', 'orange', 'date', 'cherry', 'apple', 'kiwi']\n",
      "['tangerine', 'orange', 'date', 'cherry', 'apple']\n",
      "['tangerine', 'date', 'cherry', 'apple']\n",
      "[]\n",
      "['apple']\n"
     ]
    }
   ],
   "source": [
    "#string operations\n",
    "fruits = [\"apple\", \"banana\", \"cherry\", \"date\",\"tangerine\"]\n",
    "print(\", \".join(fruits))  #joins list elements with a comma and a space\n",
    "\n",
    "fruits.sort()  #sorts the list in ascending order\n",
    "print(fruits)  \n",
    "\n",
    "fruits.sort(reverse=True)  #sorts the list in descending order\n",
    "print(fruits)\n",
    "\n",
    "fruits.append(\"kiwi\")  #adds an element to the end of the list\n",
    "print(fruits)\n",
    "\n",
    "fruits.insert(1, \"orange\")  #inserts an element at a specific position\n",
    "print(fruits)\n",
    "\n",
    "fruits.remove(\"banana\")  #removes a specific element\n",
    "print(fruits)\n",
    "\n",
    "fruits.pop()  #removes the last element\n",
    "print(fruits)\n",
    "\n",
    "fruits.pop(1)  #removes an element at a specific position\n",
    "print(fruits)\n",
    "\n",
    "fruits.clear()  #removes all elements from the list\n",
    "print(fruits)\n",
    "\n",
    "fruits.append(\"apple\")  #correct way to add an element to the end of the list\n",
    "print(fruits)\n"
   ]
  },
  {
   "cell_type": "code",
   "execution_count": 28,
   "id": "a33d7d21",
   "metadata": {},
   "outputs": [
    {
     "name": "stdout",
     "output_type": "stream",
     "text": [
      "2\n"
     ]
    }
   ],
   "source": [
    "#working with lists indexes\n",
    "fruits = [\"apple\", \"banana\", \"cherry\", \"date\",\"tangerine\"]\n",
    "index = fruits.index(\"cherry\")  #finds the index of a specific element\n",
    "print(index)"
   ]
  },
  {
   "cell_type": "code",
   "execution_count": null,
   "id": "5eb7eb50",
   "metadata": {},
   "outputs": [
    {
     "name": "stdout",
     "output_type": "stream",
     "text": [
      "['apple', 'banana', 'blueberry', 'cherry', 'date', 'tangerine']\n",
      "1\n"
     ]
    }
   ],
   "source": [
    "fruits.insert(2, \"blueberry\")  #inserts an element at the found index2\n",
    "print(fruits)\n",
    "\n",
    "fruits.count(\"apple\")  #counts how many times an element appears in the list\n",
    "print(fruits.count(\"apple\"))\n",
    "\n",
    "fruits.reverse()  #reverses the order of the list\n",
    "print(fruits)"
   ]
  },
  {
   "cell_type": "code",
   "execution_count": 32,
   "id": "9c23237d",
   "metadata": {},
   "outputs": [
    {
     "name": "stdout",
     "output_type": "stream",
     "text": [
      "apple\n",
      "banana\n",
      "blueberry\n",
      "cherry\n",
      "date\n",
      "tangerine\n"
     ]
    }
   ],
   "source": [
    "#iterating through a list\n",
    "for fruit in fruits:\n",
    "    print(fruit)\n",
    "\n"
   ]
  },
  {
   "cell_type": "code",
   "execution_count": 33,
   "id": "c6d8c886",
   "metadata": {},
   "outputs": [
    {
     "name": "stdout",
     "output_type": "stream",
     "text": [
      "0 apple\n",
      "1 banana\n",
      "2 blueberry\n",
      "3 cherry\n",
      "4 date\n",
      "5 tangerine\n"
     ]
    }
   ],
   "source": [
    "#iterating through a list with index\n",
    "for index, fruit in enumerate(fruits):\n",
    "    print(index, fruit)"
   ]
  },
  {
   "cell_type": "code",
   "execution_count": 35,
   "id": "fd7e0d98",
   "metadata": {},
   "outputs": [
    {
     "name": "stdout",
     "output_type": "stream",
     "text": [
      "[0, 1, 4, 9, 16, 25, 36, 49, 64, 81]\n",
      "[0, 1, 4, 9, 16, 25, 36, 49, 64, 81]\n"
     ]
    }
   ],
   "source": [
    "#list comprehension\n",
    "squares = [x**2 for x in range(10)]\n",
    "print(squares)\n",
    "\n",
    "#alternative way to create the same list\n",
    "squares = []\n",
    "for x in range(10):\n",
    "    squares.append(x**2)\n",
    "print(squares)"
   ]
  },
  {
   "cell_type": "markdown",
   "id": "d409190b",
   "metadata": {},
   "source": [
    "### List Comprehension \n",
    "\n",
    "Basic Syntax[expression for item in iterable]\n",
    "\n",
    "with conditional logic[expression for item in iterable if condition]"
   ]
  },
  {
   "cell_type": "code",
   "execution_count": 39,
   "id": "c87809b0",
   "metadata": {},
   "outputs": [
    {
     "name": "stdout",
     "output_type": "stream",
     "text": [
      "[0, 2, 4, 6, 8]\n",
      "[0, 2, 4, 6, 8]\n",
      "[1, 2, 3, 4, 5, 6, 7, 8, 9]\n"
     ]
    }
   ],
   "source": [
    "#with conditional logic\n",
    "lst = []\n",
    "for x in range(10):\n",
    "    if x%2 == 0:\n",
    "        lst.append(x)\n",
    "print(lst)\n",
    "\n",
    "#basic list comprehension syntax - [expression for item in iterable]\n",
    "lst = [x for x in range(10) if x%2 == 0]\n",
    "print(lst)\n",
    "\n",
    "#nested list comprehension\n",
    "matrix = [[1, 2, 3], [4, 5, 6], [7, 8, 9]]\n",
    "flattened = [num for row in matrix for num in row]\n",
    "print(flattened)\n"
   ]
  },
  {
   "cell_type": "code",
   "execution_count": 40,
   "id": "8edf8634",
   "metadata": {},
   "outputs": [
    {
     "name": "stdout",
     "output_type": "stream",
     "text": [
      "[(1, 'a'), (1, 'b'), (1, 'c'), (2, 'a'), (2, 'b'), (2, 'c'), (3, 'a'), (3, 'b'), (3, 'c')]\n"
     ]
    }
   ],
   "source": [
    "#nested list comprehension\n",
    "lst1 = [1, 2, 3]\n",
    "lst2 = ['a', 'b', 'c']\n",
    "combined = [(x, y) for x in lst1 for y in lst2]\n",
    "print(combined)\n"
   ]
  },
  {
   "cell_type": "code",
   "execution_count": 41,
   "id": "65e75dc1",
   "metadata": {},
   "outputs": [
    {
     "name": "stdout",
     "output_type": "stream",
     "text": [
      "[5, 5, 6, 2, 7]\n"
     ]
    }
   ],
   "source": [
    "#list comprehension with function calls\n",
    "words = [\"hello\", \"world\", \"python\", \"is\", \"awesome\"]\n",
    "lengths = [len(word) for word in words]\n",
    "print(lengths)\n"
   ]
  }
 ],
 "metadata": {
  "kernelspec": {
   "display_name": "Python 3",
   "language": "python",
   "name": "python3"
  },
  "language_info": {
   "codemirror_mode": {
    "name": "ipython",
    "version": 3
   },
   "file_extension": ".py",
   "mimetype": "text/x-python",
   "name": "python",
   "nbconvert_exporter": "python",
   "pygments_lexer": "ipython3",
   "version": "3.12.0"
  }
 },
 "nbformat": 4,
 "nbformat_minor": 5
}
