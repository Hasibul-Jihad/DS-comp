{
 "cells": [
  {
   "cell_type": "code",
   "execution_count": 11,
   "id": "9c42523c",
   "metadata": {},
   "outputs": [
    {
     "name": "stdout",
     "output_type": "stream",
     "text": [
      "15 -5 50 0.5\n",
      "15.0 -5.0 50.0 0.5\n",
      "10.0 20.0 30.0 -10.0 100.0 5.5\n",
      "<class 'int'> <class 'float'>\n"
     ]
    }
   ],
   "source": [
    "#integer examples\n",
    "a = 5\n",
    "b = 10\n",
    "c = a + b\n",
    "d = a - b\n",
    "e = a * b\n",
    "f = a / b\n",
    "print(c, d, e, f)\n",
    "#float examples\n",
    "f = 5.0\n",
    "g = 10.0\n",
    "h = f + g\n",
    "i = f - g\n",
    "j = f * g\n",
    "k = f / g\n",
    "print(h, i, j, k)\n",
    "#mixed examples\n",
    "m = a + f\n",
    "n = b + g\n",
    "o = c + h\n",
    "p = d + i\n",
    "q = e + j\n",
    "r = f + k\n",
    "print(m, n, o, p, q, r)\n",
    "print(type(a), type(f))\n",
    "\n",
    "#type checking examples"
   ]
  },
  {
   "cell_type": "code",
   "execution_count": 2,
   "id": "fc686e5a",
   "metadata": {},
   "outputs": [
    {
     "name": "stdout",
     "output_type": "stream",
     "text": [
      "False True False\n",
      "<class 'bool'> <class 'bool'> <class 'bool'> <class 'bool'> <class 'bool'>\n"
     ]
    }
   ],
   "source": [
    "#boolean examples\n",
    "t = True\n",
    "u = False\n",
    "v = t and u\n",
    "w = t or u\n",
    "x = not t\n",
    "print(v, w, x)\n",
    "print(type(t), type(u), type(v), type(w), type(x))"
   ]
  },
  {
   "cell_type": "code",
   "execution_count": 3,
   "id": "ee4e0172",
   "metadata": {},
   "outputs": [
    {
     "name": "stdout",
     "output_type": "stream",
     "text": [
      "Hello World HelloHelloHello\n",
      "<class 'str'> <class 'str'> <class 'str'> <class 'str'>\n"
     ]
    }
   ],
   "source": [
    "#string examples\n",
    "s1 = \"Hello\"\n",
    "s2 = \"World\"\n",
    "s3 = s1 + \" \" + s2\n",
    "s4 = s1 * 3\n",
    "print(s3, s4)\n",
    "print(type(s1), type(s2), type(s3), type(s4))"
   ]
  },
  {
   "cell_type": "code",
   "execution_count": 4,
   "id": "eb1b83af",
   "metadata": {},
   "outputs": [
    {
     "name": "stdout",
     "output_type": "stream",
     "text": [
      "[1, 2, 3, 4, 5, 6] [1, 2, 3, 1, 2, 3]\n",
      "<class 'list'> <class 'list'> <class 'list'> <class 'list'>\n"
     ]
    }
   ],
   "source": [
    "#list examples\n",
    "lst1 = [1, 2, 3]\n",
    "lst2 = [4, 5, 6]\n",
    "lst3 = lst1 + lst2\n",
    "lst4 = lst1 * 2\n",
    "print(lst3, lst4)\n",
    "print(type(lst1), type(lst2), type(lst3), type(lst4))"
   ]
  },
  {
   "cell_type": "code",
   "execution_count": 6,
   "id": "502af9f4",
   "metadata": {},
   "outputs": [
    {
     "name": "stdout",
     "output_type": "stream",
     "text": [
      "(1, 2, 3, 4, 5, 6) (1, 2, 3, 1, 2, 3)\n",
      "<class 'tuple'> <class 'tuple'> <class 'tuple'> <class 'tuple'>\n"
     ]
    }
   ],
   "source": [
    "#tuple examples\n",
    "tpl1 = (1, 2, 3)\n",
    "tpl2 = (4, 5, 6)\n",
    "tpl3 = tpl1 + tpl2\n",
    "tpl4 = tpl1 * 2\n",
    "print(tpl3, tpl4)\n",
    "print(type(tpl1), type(tpl2), type(tpl3), type(tpl4))"
   ]
  },
  {
   "cell_type": "code",
   "execution_count": 7,
   "id": "3efff6a6",
   "metadata": {},
   "outputs": [
    {
     "name": "stdout",
     "output_type": "stream",
     "text": [
      "{1, 2, 3, 4, 5} {3}\n",
      "<class 'set'> <class 'set'> <class 'set'> <class 'set'>\n"
     ]
    }
   ],
   "source": [
    "#set examples\n",
    "set1 = {1, 2, 3}\n",
    "set2 = {3, 4, 5}\n",
    "set3 = set1.union(set2)\n",
    "set4 = set1.intersection(set2)\n",
    "print(set3, set4)\n",
    "print(type(set1), type(set2), type(set3), type(set4))"
   ]
  },
  {
   "cell_type": "code",
   "execution_count": 8,
   "id": "630ae812",
   "metadata": {},
   "outputs": [
    {
     "name": "stdout",
     "output_type": "stream",
     "text": [
      "{'a': 1, 'b': 2, 'c': 3, 'd': 4}\n",
      "<class 'dict'> <class 'dict'> <class 'dict'>\n"
     ]
    }
   ],
   "source": [
    "#dictionary examples\n",
    "dict1 = {'a': 1, 'b': 2}\n",
    "dict2 = {'c': 3, 'd': 4}\n",
    "dict3 = {**dict1, **dict2}\n",
    "print(dict3)\n",
    "print(type(dict1), type(dict2), type(dict3))"
   ]
  },
  {
   "cell_type": "code",
   "execution_count": 9,
   "id": "2972fc47",
   "metadata": {},
   "outputs": [
    {
     "name": "stdout",
     "output_type": "stream",
     "text": [
      "(4+6j) (-5+10j)\n",
      "<class 'complex'> <class 'complex'> <class 'complex'> <class 'complex'>\n"
     ]
    }
   ],
   "source": [
    "#complex number examples\n",
    "comp1 = 1 + 2j\n",
    "comp2 = 3 + 4j\n",
    "comp3 = comp1 + comp2\n",
    "comp4 = comp1 * comp2\n",
    "print(comp3, comp4)\n",
    "print(type(comp1), type(comp2), type(comp3), type(comp4))"
   ]
  },
  {
   "cell_type": "code",
   "execution_count": 10,
   "id": "84d1074b",
   "metadata": {},
   "outputs": [
    {
     "name": "stdout",
     "output_type": "stream",
     "text": [
      "None\n",
      "<class 'NoneType'>\n"
     ]
    }
   ],
   "source": [
    "#none type example\n",
    "n1 = None\n",
    "print(n1)\n",
    "print(type(n1))"
   ]
  },
  {
   "cell_type": "code",
   "execution_count": null,
   "id": "4785ef8b",
   "metadata": {},
   "outputs": [],
   "source": [
    "#common errors\n",
    "# Uncommenting the following lines will raise errors\n",
    "# print(a + s1)  # TypeError: unsupported operand type(s) for +: 'int' and 'str'\n",
    "# print(lst1 + tpl1)  # TypeError: can only concatenate list (not \"tuple\") to list\n",
    "# print(set1 + set2)  # TypeError: unsupported operand type(s) for +: 'set' and 'set'\n",
    "# print(dict1 + dict2)  # TypeError: unsupported operand type(s) for +: 'dict' and 'dict'\n",
    "# print(comp1 + s1)  # TypeError: unsupported operand type(s) for +: 'complex' and 'str'\n",
    "# print(n1 + a)  # TypeError: unsupported operand type(s) for +: 'NoneType' and 'int'\n",
    "# print(a / 0)  # ZeroDivisionError: division by zero\n",
    "# print(lst1[5])  # IndexError: list index out of range #explain - list has only 3 elements, index 5 is out of range\n",
    "# print(tpl1[5])  # IndexError: tuple index out of range\n",
    "# print(dict1['z'])  # KeyError: 'z'\n",
    "# print(set1[0])  # TypeError: 'set' object is not subscriptable\n",
    "# print(int(\"hello\"))  # ValueError: invalid literal for int() with base 10: 'hello'\n",
    "# print(float(\"hello\"))  # ValueError: could not convert string to float: 'hello'"
   ]
  }
 ],
 "metadata": {
  "kernelspec": {
   "display_name": "Python 3",
   "language": "python",
   "name": "python3"
  },
  "language_info": {
   "codemirror_mode": {
    "name": "ipython",
    "version": 3
   },
   "file_extension": ".py",
   "mimetype": "text/x-python",
   "name": "python",
   "nbconvert_exporter": "python",
   "pygments_lexer": "ipython3",
   "version": "3.12.0"
  }
 },
 "nbformat": 4,
 "nbformat_minor": 5
}
