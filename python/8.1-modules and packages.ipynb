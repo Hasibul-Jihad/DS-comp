{
 "cells": [
  {
   "cell_type": "code",
   "execution_count": 3,
   "id": "353403b4",
   "metadata": {},
   "outputs": [
    {
     "name": "stdout",
     "output_type": "stream",
     "text": [
      "4.0\n"
     ]
    }
   ],
   "source": [
    "import math\n",
    "\n",
    "print(math.sqrt(16))"
   ]
  },
  {
   "cell_type": "code",
   "execution_count": 9,
   "id": "ee26c844",
   "metadata": {},
   "outputs": [
    {
     "name": "stdout",
     "output_type": "stream",
     "text": [
      "4.0\n"
     ]
    }
   ],
   "source": [
    "from math import sqrt\n",
    "\n",
    "print(sqrt(16))"
   ]
  },
  {
   "cell_type": "code",
   "execution_count": 6,
   "id": "e0c5dc45",
   "metadata": {},
   "outputs": [],
   "source": [
    "import numpy as np"
   ]
  },
  {
   "cell_type": "markdown",
   "id": "6dfeac57",
   "metadata": {},
   "source": [
    "### Check kernel and numpy availability\n",
    "\n",
    "Run the code cell below to see which Python interpreter the notebook kernel is using, the important entries in sys.path, and whether `numpy` is available in that kernel. If `numpy` is missing, install it into the kernel's interpreter or switch the kernel to one that has numpy."
   ]
  },
  {
   "cell_type": "code",
   "execution_count": 5,
   "id": "41a1857a",
   "metadata": {},
   "outputs": [
    {
     "name": "stdout",
     "output_type": "stream",
     "text": [
      "sys.executable: d:\\udemy\\python\\venv\\python.exe\n",
      "sys.path (first 8 entries):\n",
      "   d:\\udemy\\python\\venv\\python312.zip\n",
      "   d:\\udemy\\python\\venv\\DLLs\n",
      "   d:\\udemy\\python\\venv\\Lib\n",
      "   d:\\udemy\\python\\venv\n",
      "   \n",
      "   d:\\udemy\\python\\venv\\Lib\\site-packages\n",
      "   d:\\udemy\\python\\venv\\Lib\\site-packages\\win32\n",
      "   d:\\udemy\\python\\venv\\Lib\\site-packages\\win32\\lib\n",
      "numpy imported, version: 2.3.4\n"
     ]
    }
   ],
   "source": [
    "import sys\n",
    "import pkgutil\n",
    "import importlib\n",
    "\n",
    "print('sys.executable:', sys.executable)\n",
    "print('sys.path (first 8 entries):')\n",
    "for p in sys.path[:8]:\n",
    "    print('  ', p)\n",
    "\n",
    "try:\n",
    "    import numpy as np\n",
    "    print('numpy imported, version:', np.__version__)\n",
    "except Exception as e:\n",
    "    print('Failed to import numpy:', type(e).__name__, e)\n",
    "    # show available top-level modules as a quick check\n",
    "    mods = sorted([m.name for m in pkgutil.iter_modules()])\n",
    "    print('Some available top-level modules (first 30):', mods[:30])"
   ]
  },
  {
   "cell_type": "code",
   "execution_count": 7,
   "id": "9c90c86b",
   "metadata": {},
   "outputs": [
    {
     "data": {
      "text/plain": [
       "array([1, 2, 3])"
      ]
     },
     "execution_count": 7,
     "metadata": {},
     "output_type": "execute_result"
    }
   ],
   "source": [
    "import numpy as np\n",
    "np.array([1, 2, 3])\n"
   ]
  },
  {
   "cell_type": "code",
   "execution_count": 9,
   "id": "1349a848",
   "metadata": {},
   "outputs": [
    {
     "name": "stdout",
     "output_type": "stream",
     "text": [
      "15\n",
      "50\n"
     ]
    }
   ],
   "source": [
    "from package import maths\n",
    "print(maths.addition(5, 10))\n",
    "\n",
    "from package.maths import addition\n",
    "print(addition(20, 30))"
   ]
  }
 ],
 "metadata": {
  "kernelspec": {
   "display_name": "Python 3",
   "language": "python",
   "name": "python3"
  },
  "language_info": {
   "codemirror_mode": {
    "name": "ipython",
    "version": 3
   },
   "file_extension": ".py",
   "mimetype": "text/x-python",
   "name": "python",
   "nbconvert_exporter": "python",
   "pygments_lexer": "ipython3",
   "version": "3.12.0"
  }
 },
 "nbformat": 4,
 "nbformat_minor": 5
}
