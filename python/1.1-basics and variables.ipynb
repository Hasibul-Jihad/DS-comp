{
 "cells": [
  {
   "cell_type": "markdown",
   "id": "16ac4c2d",
   "metadata": {},
   "source": [
    "### python example"
   ]
  },
  {
   "cell_type": "code",
   "execution_count": 1,
   "id": "77985ed9",
   "metadata": {},
   "outputs": [
    {
     "data": {
      "text/plain": [
       "2"
      ]
     },
     "execution_count": 1,
     "metadata": {},
     "output_type": "execute_result"
    }
   ],
   "source": [
    "1+1"
   ]
  },
  {
   "cell_type": "code",
   "execution_count": 1,
   "id": "c29d9b84",
   "metadata": {},
   "outputs": [
    {
     "name": "stdout",
     "output_type": "stream",
     "text": [
      "21\n"
     ]
    }
   ],
   "source": [
    "#line continuation\n",
    "total = 1+2+3+\\\n",
    "            4+5+6\n",
    "print(total)"
   ]
  },
  {
   "cell_type": "code",
   "execution_count": 2,
   "id": "2f3589f2",
   "metadata": {},
   "outputs": [
    {
     "name": "stdout",
     "output_type": "stream",
     "text": [
      "5 10 15\n"
     ]
    }
   ],
   "source": [
    "#multiple statements in one line\n",
    "a = 5; b = 10; c = 15\n",
    "print(a, b, c)"
   ]
  },
  {
   "cell_type": "code",
   "execution_count": 3,
   "id": "4e1a630f",
   "metadata": {},
   "outputs": [
    {
     "name": "stdout",
     "output_type": "stream",
     "text": [
      "<class 'int'>\n",
      "<class 'float'>\n",
      "<class 'str'>\n",
      "<class 'bool'>\n",
      "<class 'list'>\n",
      "<class 'tuple'>\n",
      "<class 'set'>\n",
      "<class 'dict'>\n",
      "<class 'NoneType'>\n"
     ]
    }
   ],
   "source": [
    "#type inference\n",
    "a = 5\n",
    "print(type(a))  # Output: <class 'int'>\n",
    "a = 5.5\n",
    "print(type(a))  # Output: <class 'float'>\n",
    "a = \"Hello\"\n",
    "print(type(a))  # Output: <class 'str'>\n",
    "a = True\n",
    "print(type(a))  # Output: <class 'bool'>\n",
    "a = [1, 2, 3]\n",
    "print(type(a))  # Output: <class 'list'>\n",
    "a = (1, 2, 3)\n",
    "print(type(a))  # Output: <class 'tuple'>\n",
    "a = {1, 2, 3}\n",
    "print(type(a))  # Output: <class 'set'>\n",
    "a = {'key': 'value'}\n",
    "print(type(a))  # Output: <class 'dict'>\n",
    "a = None\n",
    "print(type(a))  # Output: <class 'NoneType'>\n"
   ]
  },
  {
   "cell_type": "code",
   "execution_count": 4,
   "id": "a809cbf7",
   "metadata": {},
   "outputs": [
    {
     "name": "stdout",
     "output_type": "stream",
     "text": [
      "This is indented\n",
      "This is not indented\n",
      "2\n"
     ]
    }
   ],
   "source": [
    "#indentation\n",
    "if True:\n",
    "    print(\"This is indented\")\n",
    "    if False:\n",
    "        print(\"This won't print\")   \n",
    "print(\"This is not indented\")\n",
    "print(1+1)"
   ]
  },
  {
   "cell_type": "code",
   "execution_count": 5,
   "id": "decbca20",
   "metadata": {},
   "outputs": [
    {
     "name": "stdout",
     "output_type": "stream",
     "text": [
      "This is indented\n",
      "This is not indented\n",
      "this is outside if block\n"
     ]
    }
   ],
   "source": [
    "#code examples of indentation\n",
    "if True:\n",
    "\tprint(\"This is indented\")\n",
    "\tif False:\n",
    "\t\tprint(\"This won't print\")\n",
    "print(\"This is not indented\")\n",
    "print(\"this is outside if block\")"
   ]
  },
  {
   "cell_type": "code",
   "execution_count": 6,
   "id": "1c04254e",
   "metadata": {},
   "outputs": [
    {
     "name": "stdout",
     "output_type": "stream",
     "text": [
      "Integer: 10\n",
      "Float: 3.14\n",
      "String: Alice\n",
      "Boolean: True\n",
      "List: [1, 2, 3, 4, 5]\n",
      "Dictionary: {'name': 'Bob', 'age': 30}\n",
      "NoneType: None\n"
     ]
    }
   ],
   "source": [
    "#declaring and assigning variables\n",
    "x = 10          # Integer\n",
    "y = 3.14        # Float\n",
    "name = \"Alice\"  # String\n",
    "is_active = True # Boolean\n",
    "numbers = [1, 2, 3, 4, 5] # List   \n",
    "person = {\"name\": \"Bob\", \"age\": 30} # Dictionary\n",
    "nothing = None   # NoneType\n",
    "\n",
    "#printing variables\n",
    "print(\"Integer:\", x)   \n",
    "print(\"Float:\", y)\n",
    "print(\"String:\", name)\n",
    "print(\"Boolean:\", is_active)\n",
    "print(\"List:\", numbers)\n",
    "print(\"Dictionary:\", person)\n",
    "print(\"NoneType:\", nothing)"
   ]
  },
  {
   "cell_type": "code",
   "execution_count": 8,
   "id": "0620a606",
   "metadata": {},
   "outputs": [
    {
     "name": "stdout",
     "output_type": "stream",
     "text": [
      "10 20 30 40 50\n"
     ]
    }
   ],
   "source": [
    "#naming conventions\n",
    "# Valid variable names\n",
    "my_variable = 10\n",
    "myVariable = 20\n",
    "_my_variable = 30\n",
    "myVariable123 = 40\n",
    "MY_VARIABLE = 50\n",
    "# Invalid variable names (uncommenting these will cause errors)\n",
    "# 1st_variable = 60  # Starts with a number\n",
    "# my-variable = 70   # Contains a hyphen\n",
    "# my variable = 80  # Contains a space\n",
    "# my@variable = 90  # Contains a special character\n",
    "print(my_variable, myVariable, _my_variable, myVariable123, MY_VARIABLE)\n",
    "#valid variable names are case-sensitive"
   ]
  },
  {
   "cell_type": "code",
   "execution_count": 9,
   "id": "bb7d3918",
   "metadata": {},
   "outputs": [
    {
     "name": "stdout",
     "output_type": "stream",
     "text": [
      "<class 'int'>\n",
      "<class 'str'>\n"
     ]
    }
   ],
   "source": [
    "#python is dynamically typed language, type of a variable is inferred at runtime\n",
    "a = 5\n",
    "print(type(a))  # Output: <class 'int'> \n",
    "a = \"Hello\"\n",
    "print(type(a))  # Output: <class 'str'>"
   ]
  },
  {
   "cell_type": "code",
   "execution_count": 10,
   "id": "44e6e369",
   "metadata": {},
   "outputs": [
    {
     "name": "stdout",
     "output_type": "stream",
     "text": [
      "123 <class 'int'>\n"
     ]
    }
   ],
   "source": [
    "#type conversion\n",
    "num_str = \"123\"\n",
    "num_int = int(num_str)  # Convert string to integer\n",
    "print(num_int, type(num_int))  # Output: 123 <class 'int'>"
   ]
  },
  {
   "cell_type": "code",
   "execution_count": 11,
   "id": "9441f80a",
   "metadata": {},
   "outputs": [],
   "source": [
    "#invalid type conversion\n",
    "# invalid_str = \"abc\"\n",
    "# invalid_int = int(invalid_str)  # This will raise a ValueError\n",
    "# print(invalid_int)"
   ]
  },
  {
   "cell_type": "code",
   "execution_count": 12,
   "id": "31997961",
   "metadata": {},
   "outputs": [
    {
     "name": "stdout",
     "output_type": "stream",
     "text": [
      "10 <class 'int'>\n",
      "Now I'm a string <class 'str'>\n"
     ]
    }
   ],
   "source": [
    "#dynamic typing example\n",
    "#python allows changing variable types at runtime\n",
    "var = 10          # Initially an integer\n",
    "print(var, type(var))  # Output: 10 <class 'int'>\n",
    "var = \"Now I'm a string\"  # Now a string\n",
    "print(var, type(var))  # Output: Now I'm a string <class 'str'>"
   ]
  },
  {
   "cell_type": "code",
   "execution_count": 14,
   "id": "15e75b8c",
   "metadata": {},
   "outputs": [
    {
     "name": "stdout",
     "output_type": "stream",
     "text": [
      "You entered: <class 'str'>\n"
     ]
    }
   ],
   "source": [
    "#input example\n",
    "user_input = input(\"Enter something: \")\n",
    "print(\"You entered:\", type(user_input))\n"
   ]
  },
  {
   "cell_type": "code",
   "execution_count": 15,
   "id": "9a762d59",
   "metadata": {},
   "outputs": [
    {
     "name": "stdout",
     "output_type": "stream",
     "text": [
      "Addition: 13\n",
      "Subtraction: 7\n",
      "Multiplication: 30\n",
      "Division: 3.3333333333333335\n",
      "Floor Division: 3\n",
      "Modulus: 1\n",
      "Exponentiation: 1000\n"
     ]
    }
   ],
   "source": [
    "#simple arithmetic operations\n",
    "a = 10\n",
    "b = 3\n",
    "print(\"Addition:\", a + b)          # Output: 13\n",
    "print(\"Subtraction:\", a - b)       # Output: 7\n",
    "print(\"Multiplication:\", a * b)    # Output: 30\n",
    "print(\"Division:\", a / b)          # Output: 3.3333...\n",
    "print(\"Floor Division:\", a // b)   # Output: 3\n",
    "print(\"Modulus:\", a % b)           # Output: 1\n",
    "print(\"Exponentiation:\", a ** b)   # Output: 1000"
   ]
  },
  {
   "cell_type": "code",
   "execution_count": 18,
   "id": "3b991f8c",
   "metadata": {},
   "outputs": [
    {
     "name": "stdout",
     "output_type": "stream",
     "text": [
      "Sum: 86.0\n",
      "Difference: 0.0\n",
      "Product: 1849.0\n",
      "Quotient: 1.0\n"
     ]
    }
   ],
   "source": [
    "#simple calculator\n",
    "num1 = float(input(\"Enter first number: \"))\n",
    "num2 = float(input(\"Enter second number: \"))\n",
    "sum_result = num1 + num2\n",
    "difference = num1 - num2\n",
    "product = num1 * num2\n",
    "quotient = num1 / num2\n",
    "print(\"Sum:\", sum_result)\n",
    "print(\"Difference:\", difference)\n",
    "print(\"Product:\", product)\n",
    "print(\"Quotient:\", quotient)"
   ]
  },
  {
   "cell_type": "code",
   "execution_count": null,
   "id": "c9a26254",
   "metadata": {},
   "outputs": [],
   "source": []
  }
 ],
 "metadata": {
  "kernelspec": {
   "display_name": "venv",
   "language": "python",
   "name": "python3"
  },
  "language_info": {
   "codemirror_mode": {
    "name": "ipython",
    "version": 3
   },
   "file_extension": ".py",
   "mimetype": "text/x-python",
   "name": "python",
   "nbconvert_exporter": "python",
   "pygments_lexer": "ipython3",
   "version": "3.12.0"
  }
 },
 "nbformat": 4,
 "nbformat_minor": 5
}
