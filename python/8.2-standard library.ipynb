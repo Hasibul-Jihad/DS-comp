{
 "cells": [
  {
   "cell_type": "code",
   "execution_count": 1,
   "id": "037334fd",
   "metadata": {},
   "outputs": [
    {
     "name": "stdout",
     "output_type": "stream",
     "text": [
      "array('i', [1, 2, 3])\n"
     ]
    }
   ],
   "source": [
    "import array\n",
    "arr = array.array('i', [1, 2, 3])\n",
    "print(arr)"
   ]
  },
  {
   "cell_type": "code",
   "execution_count": 4,
   "id": "f9a65391",
   "metadata": {},
   "outputs": [
    {
     "name": "stdout",
     "output_type": "stream",
     "text": [
      "9\n",
      "cherry\n",
      "None\n",
      "[21, 60, 95, 41, 15, 19, 30, 20, 5, 81]\n"
     ]
    }
   ],
   "source": [
    "#random\n",
    "import random\n",
    "print(random.randint(1, 10))\n",
    "\n",
    "random.choice(['apple', 'banana', 'cherry'])\n",
    "print(random.choice(['apple', 'banana', 'cherry']))\n",
    "\n",
    "random.shuffle([1, 2, 3, 4, 5])\n",
    "print(random.shuffle([1, 2, 3, 4, 5]))\n",
    "\n",
    "random.sample(range(100), 10)\n",
    "print(random.sample(range(100), 10))"
   ]
  },
  {
   "cell_type": "code",
   "execution_count": 5,
   "id": "34a72ba4",
   "metadata": {},
   "outputs": [
    {
     "name": "stdout",
     "output_type": "stream",
     "text": [
      "d:\\udemy\\python\n"
     ]
    }
   ],
   "source": [
    "#file and directory access\n",
    "import os\n",
    "print(os.getcwd())"
   ]
  },
  {
   "cell_type": "code",
   "execution_count": 7,
   "id": "eda2ea47",
   "metadata": {},
   "outputs": [],
   "source": [
    "#create a new directory\n",
    "os.mkdir('new_directory.ipynb')"
   ]
  },
  {
   "cell_type": "code",
   "execution_count": 8,
   "id": "2bddd87a",
   "metadata": {},
   "outputs": [],
   "source": [
    "#function needed to create a file\n",
    "with open('new_file.txt', 'w') as f:\n",
    "    f.write('Hello, world!')"
   ]
  },
  {
   "cell_type": "code",
   "execution_count": 9,
   "id": "b0c85198",
   "metadata": {},
   "outputs": [
    {
     "data": {
      "text/plain": [
       "'new_file_copy.txt'"
      ]
     },
     "execution_count": 9,
     "metadata": {},
     "output_type": "execute_result"
    }
   ],
   "source": [
    "#high level oprations on files and collections of files\n",
    "import shutil\n",
    "shutil.copy('new_file.txt', 'new_file_copy.txt')"
   ]
  },
  {
   "cell_type": "code",
   "execution_count": 11,
   "id": "a2b88ccc",
   "metadata": {},
   "outputs": [
    {
     "name": "stdout",
     "output_type": "stream",
     "text": [
      "{\"name\": \"Alice\", \"age\": 30, \"city\": \"New York\"}\n",
      "<class 'str'>\n",
      "{'name': 'Alice', 'age': 30, 'city': 'New York'}\n",
      "<class 'dict'>\n"
     ]
    }
   ],
   "source": [
    "#import json\n",
    "import json\n",
    "data = {'name': 'Alice', 'age': 30, 'city': 'New York'}\n",
    "json_string = json.dumps(data)\n",
    "print(json_string)\n",
    "print(type(json_string))\n",
    "data_parsed = json.loads(json_string)\n",
    "print(data_parsed)\n",
    "print(type(data_parsed))"
   ]
  },
  {
   "cell_type": "code",
   "execution_count": 1,
   "id": "4428a743",
   "metadata": {},
   "outputs": [
    {
     "name": "stdout",
     "output_type": "stream",
     "text": [
      "['Name', 'Age', 'City']\n",
      "['Alice', '30', 'New York']\n",
      "['Bob', '25', 'Los Angeles']\n",
      "['Charlie', '35', 'Chicago']\n",
      "['David', '40', 'Houston']\n",
      "['Eve', '28', 'Phoenix']\n",
      "['Frank', '33', 'Philadelphia']\n",
      "['Grace', '29', 'San Antonio']\n",
      "['Hank', '31', 'San Diego']\n",
      "['Ivy', '26', 'Dallas']\n",
      "['Jack', '34', 'San Jose']\n",
      "['Kate', '27', 'Austin']\n",
      "['Leo', '32', 'Jacksonville']\n",
      "['Mia', '30', 'San Francisco']\n",
      "['Nina', '27', 'Seattle']\n",
      "['Oscar', '29', 'Denver']\n",
      "['Paul', '36', 'Boston']\n",
      "['Quinn', '28', 'Las Vegas']\n",
      "['Rita', '31', 'Miami']\n",
      "['Sam', '30', 'Atlanta']\n",
      "['Tina', '29', 'Orlando']\n",
      "['Uma', '32', 'Cleveland']\n",
      "['Vera', '30', 'Kansas City']\n",
      "['Will', '34', 'Omaha']\n",
      "['Xena', '28', 'Portland']\n",
      "['Yara', '31', 'Virginia Beach']\n",
      "['Zane', '30', 'Milwaukee']\n",
      "['Amy', '27', 'Tucson']\n",
      "['Brian', '29', 'Fresno']\n"
     ]
    }
   ],
   "source": [
    "#csv\n",
    "import csv\n",
    "with open('data.csv', mode='w', newline='') as file:\n",
    "    writer = csv.writer(file)\n",
    "    writer.writerow(['Name', 'Age', 'City'])\n",
    "    writer.writerow(['Alice', 30, 'New York'])\n",
    "    writer.writerow(['Bob', 25, 'Los Angeles'])\n",
    "    writer.writerow(['Charlie', 35, 'Chicago'])\n",
    "    writer.writerow(['David', 40, 'Houston'])\n",
    "    writer.writerow(['Eve', 28, 'Phoenix'])\n",
    "    writer.writerow(['Frank', 33, 'Philadelphia'])\n",
    "    writer.writerow(['Grace', 29, 'San Antonio'])\n",
    "    writer.writerow(['Hank', 31, 'San Diego'])\n",
    "    writer.writerow(['Ivy', 26, 'Dallas'])\n",
    "    writer.writerow(['Jack', 34, 'San Jose'])\n",
    "    writer.writerow(['Kate', 27, 'Austin'])\n",
    "    writer.writerow(['Leo', 32, 'Jacksonville'])\n",
    "    writer.writerow(['Mia', 30, 'San Francisco'])\n",
    "    writer.writerow(['Nina', 27, 'Seattle'])\n",
    "    writer.writerow(['Oscar', 29, 'Denver'])\n",
    "    writer.writerow(['Paul', 36, 'Boston'])\n",
    "    writer.writerow(['Quinn', 28, 'Las Vegas'])\n",
    "    writer.writerow(['Rita', 31, 'Miami'])\n",
    "    writer.writerow(['Sam', 30, 'Atlanta'])\n",
    "    writer.writerow(['Tina', 29, 'Orlando'])\n",
    "    writer.writerow(['Uma', 32, 'Cleveland'])\n",
    "    writer.writerow(['Vera', 30, 'Kansas City'])\n",
    "    writer.writerow(['Will', 34, 'Omaha'])\n",
    "    writer.writerow(['Xena', 28, 'Portland'])\n",
    "    writer.writerow(['Yara', 31, 'Virginia Beach'])\n",
    "    writer.writerow(['Zane', 30, 'Milwaukee'])\n",
    "    writer.writerow(['Amy', 27, 'Tucson'])\n",
    "    writer.writerow(['Brian', 29, 'Fresno'])\n",
    "    \n",
    "with open('data.csv', mode='r') as file:\n",
    "    reader = csv.reader(file)\n",
    "    for row in reader:\n",
    "        print(row)"
   ]
  },
  {
   "cell_type": "code",
   "execution_count": 3,
   "id": "777095cd",
   "metadata": {},
   "outputs": [
    {
     "name": "stdout",
     "output_type": "stream",
     "text": [
      "Current date and time: 2025-10-17 08:16:29.193490\n",
      "Yesterday's date and time: 2025-10-16 08:16:29.193490\n"
     ]
    }
   ],
   "source": [
    "#datetime\n",
    "import datetime\n",
    "now = datetime.datetime.now()\n",
    "print(\"Current date and time:\", now)\n",
    "\n",
    "#datetime yesterday\n",
    "yesterday = now - datetime.timedelta(days=1)\n",
    "print(\"Yesterday's date and time:\", yesterday)"
   ]
  },
  {
   "cell_type": "code",
   "execution_count": 5,
   "id": "ee529a95",
   "metadata": {},
   "outputs": [
    {
     "name": "stdout",
     "output_type": "stream",
     "text": [
      "Current time: Fri Oct 17 08:17:14 2025\n",
      "Time after 2 seconds: Fri Oct 17 08:17:16 2025\n"
     ]
    }
   ],
   "source": [
    "#time\n",
    "import time\n",
    "print(\"Current time:\", time.ctime())\n",
    "time.sleep(2)\n",
    "print(\"Time after 2 seconds:\", time.ctime())    "
   ]
  },
  {
   "cell_type": "code",
   "execution_count": 7,
   "id": "fdc9d426",
   "metadata": {},
   "outputs": [
    {
     "name": "stdout",
     "output_type": "stream",
     "text": [
      "Matches found: ['foo', 'foo']\n",
      "First number found: 100\n"
     ]
    }
   ],
   "source": [
    "#regular expressions\n",
    "import re\n",
    "pattern = r'\\bfoo\\b'\n",
    "text = 'foo bar baz foo'\n",
    "matches = re.findall(pattern, text)\n",
    "print(\"Matches found:\", matches)\n",
    "\n",
    "matches = re.search(r'\\d+', 'The price is 100 dollars')\n",
    "if matches:\n",
    "    print(\"First number found:\", matches.group())\n",
    "    "
   ]
  }
 ],
 "metadata": {
  "kernelspec": {
   "display_name": "Python 3",
   "language": "python",
   "name": "python3"
  },
  "language_info": {
   "codemirror_mode": {
    "name": "ipython",
    "version": 3
   },
   "file_extension": ".py",
   "mimetype": "text/x-python",
   "name": "python",
   "nbconvert_exporter": "python",
   "pygments_lexer": "ipython3",
   "version": "3.12.0"
  }
 },
 "nbformat": 4,
 "nbformat_minor": 5
}
