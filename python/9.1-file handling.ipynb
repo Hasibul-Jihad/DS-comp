{
 "cells": [
  {
   "cell_type": "code",
   "execution_count": 3,
   "id": "78e3d6a8",
   "metadata": {},
   "outputs": [
    {
     "name": "stdout",
     "output_type": "stream",
     "text": [
      "fuck life\n",
      "fuck you\n",
      "fuck cuet\n"
     ]
    }
   ],
   "source": [
    "#read file\n",
    "with open('example.txt', 'r') as file:\n",
    "    content = file.read()\n",
    "    print(content)"
   ]
  },
  {
   "cell_type": "code",
   "execution_count": 6,
   "id": "7ea80942",
   "metadata": {},
   "outputs": [
    {
     "name": "stdout",
     "output_type": "stream",
     "text": [
      "fuck life\n",
      "fuck you\n",
      "fuck cuet\n"
     ]
    }
   ],
   "source": [
    "#read file line by line\n",
    "with open('example.txt', 'r') as file:\n",
    "    for line in file:\n",
    "        #print(line)\n",
    "        print(line.strip())#strip removes whitespace"
   ]
  },
  {
   "cell_type": "code",
   "execution_count": 10,
   "id": "8398df00",
   "metadata": {},
   "outputs": [],
   "source": [
    "#writing file (overwrite)\n",
    "with open('example.txt', 'w') as file:\n",
    "    file.write(\"This is a new line.\")\n",
    "    file.write(\"This is another new line.\")\n",
    "    \n",
    "    \n",
    "#without overwriting (append)\n",
    "with open('example.txt', 'a') as file:\n",
    "    file.write(\"\\nThis line is appended.\")\n",
    "    file.write(\"\\nThis is yet another appended line.\")"
   ]
  },
  {
   "cell_type": "code",
   "execution_count": 11,
   "id": "09dd9333",
   "metadata": {},
   "outputs": [],
   "source": [
    "#writing a list of lines to a file\n",
    "lines = [\"First line\\n\", \"Second line\\n\", \"Third line\\n\"]\n",
    "with open('example.txt', 'w') as file:\n",
    "    file.writelines(lines)"
   ]
  },
  {
   "cell_type": "code",
   "execution_count": 14,
   "id": "4569c17d",
   "metadata": {},
   "outputs": [],
   "source": [
    "#binary file handling\n",
    "data = b'\\x68\\x65\\x6c\\x6c\\x6f'  # binary representation of 'hello'\n",
    "with open('example.bin', 'wb') as file:\n",
    "    file.write(data)"
   ]
  },
  {
   "cell_type": "code",
   "execution_count": null,
   "id": "72d022ad",
   "metadata": {},
   "outputs": [],
   "source": [
    "#read from a source file and write to a destination file\n",
    "with open('example.txt', 'r') as src_file:\n",
    "    content = src_file.read()\n",
    "with open('destination.txt', 'w') as dest_file:\n",
    "    dest_file.write(content)\n"
   ]
  },
  {
   "cell_type": "code",
   "execution_count": 15,
   "id": "2a11d985",
   "metadata": {},
   "outputs": [
    {
     "name": "stdout",
     "output_type": "stream",
     "text": [
      "Lines: 3, Words: 6, Characters: 34\n"
     ]
    }
   ],
   "source": [
    "#read a text file and count the number of lines, words, and characters\n",
    "with open('example.txt', 'r') as file:\n",
    "    lines = file.readlines()\n",
    "    num_lines = len(lines)\n",
    "    num_words = sum(len(line.split()) for line in lines)\n",
    "    num_chars = sum(len(line) for line in lines)\n",
    "print(f\"Lines: {num_lines}, Words: {num_words}, Characters: {num_chars}\")"
   ]
  },
  {
   "cell_type": "code",
   "execution_count": 18,
   "id": "99f537a9",
   "metadata": {},
   "outputs": [
    {
     "name": "stdout",
     "output_type": "stream",
     "text": [
      "Temporary file content.\n",
      "Overwritten content.nt.\n"
     ]
    }
   ],
   "source": [
    "#writing and then reading a file\n",
    "with open('temp.txt', 'w+') as file:\n",
    "    file.write(\"Temporary file content.\")\n",
    "\n",
    "with open('temp.txt', 'r') as file:\n",
    "    content = file.read()\n",
    "    print(content)\n",
    "    \n",
    "#move the file cursor to the beginning\n",
    "with open('temp.txt', 'r+') as file:\n",
    "    file.write(\"Overwritten content.\")\n",
    "    file.seek(0)  # Move cursor to the beginning\n",
    "    content = file.read()\n",
    "    print(content)"
   ]
  },
  {
   "cell_type": "code",
   "execution_count": 21,
   "id": "5b62cb32",
   "metadata": {},
   "outputs": [
    {
     "name": "stdout",
     "output_type": "stream",
     "text": [
      "César Azpilicueta Tanco (born 28 August 1989) is a Spanish professional footballer. Known primarily as a right-back, he’s praised for versatility—playing full-back, wing-back and centre-back when needed. A long-time figure at Chelsea (joined 2012), he served as club captain and won major trophies including the Premier League and Champions League. He’s respected for defensive consistency, work-rate, tactical awareness and leadership on and off the pitch. An established Spain international, he transferred to Atlético Madrid in 2023 and continued to feature at top level.\n"
     ]
    }
   ],
   "source": [
    "#writing and reading a file\n",
    "\n",
    "with open('readwrite.txt', 'w+') as file:\n",
    "    file.write(\"\"\"César Azpilicueta Tanco (born 28 August 1989) is a Spanish professional footballer. Known primarily as a right-back, he’s praised for versatility—playing full-back, wing-back and centre-back when needed. A long-time figure at Chelsea (joined 2012), he served as club captain and won major trophies including the Premier League and Champions League. He’s respected for defensive consistency, work-rate, tactical awareness and leadership on and off the pitch. An established Spain international, he transferred to Atlético Madrid in 2023 and continued to feature at top level.\"\"\")\n",
    "    file.seek(0)  # Move cursor to the beginning\n",
    "with open('readwrite.txt', 'r') as file:\n",
    "    content = file.read()\n",
    "    print(content)"
   ]
  }
 ],
 "metadata": {
  "kernelspec": {
   "display_name": "Python 3",
   "language": "python",
   "name": "python3"
  },
  "language_info": {
   "codemirror_mode": {
    "name": "ipython",
    "version": 3
   },
   "file_extension": ".py",
   "mimetype": "text/x-python",
   "name": "python",
   "nbconvert_exporter": "python",
   "pygments_lexer": "ipython3",
   "version": "3.12.0"
  }
 },
 "nbformat": 4,
 "nbformat_minor": 5
}
