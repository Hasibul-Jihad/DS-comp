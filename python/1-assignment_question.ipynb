{
 "cells": [
  {
   "cell_type": "markdown",
   "metadata": {},
   "source": [
    "# Lesson 1.2: Python Basics\n",
    "## Topics Covered:\n",
    "- Syntax and Semantics\n",
    "- Variables and Data Types\n",
    "- Basic Operators (Arithmetic, Comparison, Logical)\n"
   ]
  },
  {
   "cell_type": "markdown",
   "metadata": {},
   "source": [
    "## 1. Syntax and Semantics\n",
    "\n",
    "**Question 1:** Write a Python program to print \"Hello, World!\"."
   ]
  },
  {
   "cell_type": "code",
   "execution_count": 1,
   "metadata": {},
   "outputs": [
    {
     "name": "stdout",
     "output_type": "stream",
     "text": [
      "Hello, World!\n"
     ]
    }
   ],
   "source": [
    "# write a code to print hello world\n",
    "print(\"Hello, World!\")"
   ]
  },
  {
   "cell_type": "markdown",
   "metadata": {},
   "source": [
    "**Question 2:** Write a Python program that takes a user input and prints it."
   ]
  },
  {
   "cell_type": "code",
   "execution_count": 2,
   "metadata": {},
   "outputs": [
    {
     "name": "stdout",
     "output_type": "stream",
     "text": [
      "You entered: 6\n"
     ]
    }
   ],
   "source": [
    "# write a python program that takes a user input and prints it\n",
    "user_input = input(\"Enter something: \")\n",
    "print(\"You entered:\", user_input)"
   ]
  },
  {
   "cell_type": "markdown",
   "metadata": {},
   "source": [
    "**Question 3:** Write a Python program to check if a number is positive, negative, or zero."
   ]
  },
  {
   "cell_type": "code",
   "execution_count": null,
   "metadata": {},
   "outputs": [
    {
     "name": "stdout",
     "output_type": "stream",
     "text": [
      "The number is negative.\n"
     ]
    }
   ],
   "source": [
    "# write a python program to check if a number is positive, negative or zero\n",
    "num = float(input(\"Enter a number: \"))\n",
    "if num > 0:\n",
    "    print(\"The number is positive.\")\n",
    "elif num < 0:\n",
    "    print(\"The number is negative.\")\n",
    "else:\n",
    "    print(\"The number is zero.\")"
   ]
  },
  {
   "cell_type": "markdown",
   "metadata": {},
   "source": [
    "**Question 4:** Write a Python program to find the largest of three numbers."
   ]
  },
  {
   "cell_type": "code",
   "execution_count": null,
   "metadata": {},
   "outputs": [
    {
     "name": "stdout",
     "output_type": "stream",
     "text": [
      "The largest number is: 48.0\n"
     ]
    }
   ],
   "source": [
    "# write a python program to find the largest of three numbers\n",
    "a = float(input(\"Enter first number: \"))\n",
    "b = float(input(\"Enter second number: \"))\n",
    "c = float(input(\"Enter third number: \"))\n",
    "if a >= b and a >= c:\n",
    "    largest = a\n",
    "elif b >= a and b >= c:\n",
    "    largest = b\n",
    "else:\n",
    "    largest = c\n",
    "print(\"The largest number is:\", largest)"
   ]
  },
  {
   "cell_type": "markdown",
   "metadata": {},
   "source": [
    "**Question 5:** Write a Python program to calculate the factorial of a number."
   ]
  },
  {
   "cell_type": "code",
   "execution_count": null,
   "metadata": {},
   "outputs": [
    {
     "name": "stdout",
     "output_type": "stream",
     "text": [
      "The factorial of 7 is 5040\n"
     ]
    }
   ],
   "source": [
    "# write a python program to calculate the factorial of a number\n",
    "n = int(input(\"Enter a non-negative integer: \"))\n",
    "factorial = 1\n",
    "for i in range(1, n + 1):\n",
    "    factorial *= i\n",
    "print(\"The factorial of\", n, \"is\", factorial)"
   ]
  },
  {
   "cell_type": "markdown",
   "metadata": {},
   "source": [
    "## 2. Variables and Data Types\n",
    "\n",
    "**Question 6:** Create variables of different data types: integer, float, string, and boolean. Print their values and types."
   ]
  },
  {
   "cell_type": "code",
   "execution_count": 2,
   "metadata": {},
   "outputs": [
    {
     "name": "stdout",
     "output_type": "stream",
     "text": [
      "Value of a: 10 Type of a: <class 'int'>\n",
      "Value of b: 3.14 Type of b: <class 'float'>\n",
      "Value of c: Hello Type of c: <class 'str'>\n",
      "Value of d: True Type of d: <class 'bool'>\n"
     ]
    }
   ],
   "source": [
    "#create variables of different data types: integer ,float, string and boolean. Print their values and types.\n",
    "a = 10\n",
    "b = 3.14\n",
    "c = \"Hello\"\n",
    "d = True\n",
    "\n",
    "print(\"Value of a:\", a, \"Type of a:\", type(a))\n",
    "print(\"Value of b:\", b, \"Type of b:\", type(b))\n",
    "print(\"Value of c:\", c, \"Type of c:\", type(c))\n",
    "print(\"Value of d:\", d, \"Type of d:\", type(d))\n"
   ]
  },
  {
   "cell_type": "markdown",
   "metadata": {},
   "source": [
    "**Question 7:** Write a Python program to swap the values of two variables."
   ]
  },
  {
   "cell_type": "code",
   "execution_count": 1,
   "metadata": {},
   "outputs": [
    {
     "name": "stdout",
     "output_type": "stream",
     "text": [
      "After swapping:\n",
      "a = 10\n",
      "b = 5\n"
     ]
    }
   ],
   "source": [
    "# write a python program to swap the values of two variables\n",
    "a = 5\n",
    "b = 10\n",
    "a, b = b, a\n",
    "print(\"After swapping:\")\n",
    "print(\"a =\", a)\n",
    "print(\"b =\", b)"
   ]
  },
  {
   "cell_type": "markdown",
   "metadata": {},
   "source": [
    "**Question 8:** Write a Python program to convert Celsius to Fahrenheit."
   ]
  },
  {
   "cell_type": "code",
   "execution_count": 3,
   "metadata": {},
   "outputs": [
    {
     "name": "stdout",
     "output_type": "stream",
     "text": [
      "Temperature in Fahrenheit: 109.4\n"
     ]
    }
   ],
   "source": [
    "# write a python program to convert temperature from Celsius to Fahrenheit\n",
    "celsius = float(input(\"Enter temperature in Celsius: \"))\n",
    "fahrenheit = (celsius * 9/5) + 32\n",
    "print(\"Temperature in Fahrenheit:\", fahrenheit)"
   ]
  },
  {
   "cell_type": "markdown",
   "metadata": {},
   "source": [
    "**Question 9:** Write a Python program to concatenate two strings."
   ]
  },
  {
   "cell_type": "code",
   "execution_count": 5,
   "metadata": {},
   "outputs": [
    {
     "name": "stdout",
     "output_type": "stream",
     "text": [
      "Concatenated string: hasibul jihad\n"
     ]
    }
   ],
   "source": [
    "# write a python program to concatenate two strings\n",
    "str1 = input(\"Enter first string: \")\n",
    "str2 = input(\"Enter second string: \")\n",
    "result = str1 + \" \" + str2\n",
    "print(\"Concatenated string:\", result)"
   ]
  },
  {
   "cell_type": "markdown",
   "metadata": {},
   "source": [
    "**Question 10:** Write a Python program to check if a variable is of a specific data type."
   ]
  },
  {
   "cell_type": "code",
   "execution_count": 6,
   "metadata": {},
   "outputs": [
    {
     "name": "stdout",
     "output_type": "stream",
     "text": [
      "The variable is of type integer.\n",
      "The variable is of type float.\n",
      "The variable is of type string.\n",
      "The variable is of type integer.\n"
     ]
    }
   ],
   "source": [
    "# write a python program to check if a variable of a specified data type\n",
    "# (integer, float, string, boolean) is of that data type or not\n",
    "def check_data_type(var):\n",
    "    if isinstance(var, int):\n",
    "        print(\"The variable is of type integer.\")\n",
    "    elif isinstance(var, float):\n",
    "        print(\"The variable is of type float.\")\n",
    "    elif isinstance(var, str):\n",
    "        print(\"The variable is of type string.\")\n",
    "    elif isinstance(var, bool):\n",
    "        print(\"The variable is of type boolean.\")\n",
    "    else:\n",
    "        print(\"The variable is of an unknown type.\")\n",
    "\n",
    "# Test the function\n",
    "check_data_type(10)\n",
    "check_data_type(3.14)\n",
    "check_data_type(\"Hello\")\n",
    "check_data_type(True)\n"
   ]
  },
  {
   "cell_type": "markdown",
   "metadata": {},
   "source": [
    "## 3. Basic Operators (Arithmetic, Comparison, Logical)\n",
    "\n",
    "**Question 11:** Write a Python program to perform arithmetic operations: addition, subtraction, multiplication, and division."
   ]
  },
  {
   "cell_type": "code",
   "execution_count": 8,
   "metadata": {},
   "outputs": [
    {
     "name": "stdout",
     "output_type": "stream",
     "text": [
      "Addition: 15\n",
      "Subtraction: 5\n",
      "Multiplication: 50\n",
      "Division: 2.0\n"
     ]
    }
   ],
   "source": [
    "# Write a Python program to perform arithmetic operations: addition, subtraction, multiplication, and division.\n",
    "def arithmetic_operations(x, y):\n",
    "    print(\"Addition:\", x + y)\n",
    "    print(\"Subtraction:\", x - y)\n",
    "    print(\"Multiplication:\", x * y)\n",
    "    if y != 0:\n",
    "        print(\"Division:\", x / y)\n",
    "    else:\n",
    "        print(\"Division by zero is not allowed.\")\n",
    "# Test the function\n",
    "arithmetic_operations(10, 5)"
   ]
  },
  {
   "cell_type": "markdown",
   "metadata": {},
   "source": [
    "**Question 12:** Write a Python program to demonstrate comparison operators: equal to, not equal to, greater than, less than."
   ]
  },
  {
   "cell_type": "code",
   "execution_count": 9,
   "metadata": {},
   "outputs": [
    {
     "name": "stdout",
     "output_type": "stream",
     "text": [
      "Equal to: False\n",
      "Not equal to: True\n",
      "Greater than: True\n",
      "Less than: False\n"
     ]
    }
   ],
   "source": [
    "# Write a Python program to demonstrate comparison operators: equal to, not equal to, greater than, less than.\n",
    "def comparison_operators(x, y):\n",
    "    print(\"Equal to:\", x == y)\n",
    "    print(\"Not equal to:\", x != y)\n",
    "    print(\"Greater than:\", x > y)\n",
    "    print(\"Less than:\", x < y)\n",
    "# Test the function\n",
    "comparison_operators(10, 5)"
   ]
  },
  {
   "cell_type": "markdown",
   "metadata": {},
   "source": [
    "**Question 13:** Write a Python program to demonstrate logical operators: and, or, not."
   ]
  },
  {
   "cell_type": "code",
   "execution_count": 10,
   "metadata": {},
   "outputs": [
    {
     "name": "stdout",
     "output_type": "stream",
     "text": [
      "a and b: 5\n",
      "a or b: 10\n",
      "not a: False\n"
     ]
    }
   ],
   "source": [
    "#  Write a Python program to demonstrate logical operators: and, or, not.\n",
    "def logical_operators(a, b):\n",
    "    print(\"a and b:\", a and b)\n",
    "    print(\"a or b:\", a or b)\n",
    "    print(\"not a:\", not a)\n",
    "# Test the function\n",
    "logical_operators(10, 5)"
   ]
  },
  {
   "cell_type": "markdown",
   "metadata": {},
   "source": [
    "**Question 14:** Write a Python program to calculate the square of a number."
   ]
  },
  {
   "cell_type": "code",
   "execution_count": null,
   "metadata": {},
   "outputs": [
    {
     "name": "stdout",
     "output_type": "stream",
     "text": [
      "Square of 5: 25\n",
      "Square of 10: 100\n"
     ]
    }
   ],
   "source": [
    "# Write a Python program to calculate the square of a number.\n",
    "def calculate_square(num): #here, def is used to define a function\n",
    "    return num ** 2\n",
    "\n",
    "# Test the function\n",
    "print(\"Square of 5:\", calculate_square(5))\n",
    "print(\"Square of 10:\", calculate_square(10))"
   ]
  },
  {
   "cell_type": "markdown",
   "metadata": {},
   "source": [
    "**Question 15:** Write a Python program to check if a number is even or odd."
   ]
  },
  {
   "cell_type": "code",
   "execution_count": 13,
   "metadata": {},
   "outputs": [
    {
     "name": "stdout",
     "output_type": "stream",
     "text": [
      "10 is even.\n",
      "5 is odd.\n",
      "5 is odd.\n"
     ]
    }
   ],
   "source": [
    "# Write a Python program to check if a number is even or odd.\n",
    "def check_even_odd(num):\n",
    "    if num % 2 == 0:\n",
    "        print(num, \"is even.\")\n",
    "    else:\n",
    "        print(num, \"is odd.\")\n",
    "\n",
    "# Test the function\n",
    "check_even_odd(10)\n",
    "check_even_odd(5)\n",
    "\n",
    "#do it taking the input from the user\n",
    "user_num = int(input(\"Enter a number: \"))\n",
    "check_even_odd(user_num)\n"
   ]
  },
  {
   "cell_type": "markdown",
   "metadata": {},
   "source": [
    "**Question 16:** Write a Python program to find the sum of the first n natural numbers."
   ]
  },
  {
   "cell_type": "code",
   "execution_count": 15,
   "metadata": {},
   "outputs": [
    {
     "name": "stdout",
     "output_type": "stream",
     "text": [
      "Sum of the first 10 natural numbers is: 55\n",
      "Sum of the first 10 natural numbers is: 55\n"
     ]
    }
   ],
   "source": [
    "# Write a Python program to find the sum of the first n natural numbers taking input from the user.\n",
    "n = int(input(\"Enter a positive integer: \"))\n",
    "sum_natural = n * (n + 1) // 2\n",
    "print(\"Sum of the first\", n, \"natural numbers is:\", sum_natural)\n",
    "\n",
    "#define a function to implement the sum of these n natural numbers\n",
    "def sum_of_n_natural_numbers(n):\n",
    "    return n * (n + 1) // 2\n",
    "\n",
    "# Test the function\n",
    "print(\"Sum of the first 10 natural numbers is:\", sum_of_n_natural_numbers(10))"
   ]
  },
  {
   "cell_type": "markdown",
   "metadata": {},
   "source": [
    "**Question 17:** Write a Python program to check if a year is a leap year."
   ]
  },
  {
   "cell_type": "code",
   "execution_count": null,
   "metadata": {},
   "outputs": [
    {
     "name": "stdout",
     "output_type": "stream",
     "text": [
      "2020 is a leap year: True\n",
      "2021 is a leap year: False\n"
     ]
    }
   ],
   "source": [
    "# Write a Python program to check if a year is a leap year.\n",
    "def is_leap_year(year):\n",
    "    if (year % 4 == 0 and year % 100 != 0) or (year % 400 == 0):\n",
    "        '''the logic behind this line is that a year is a leap year if it is divisible by 4 but not divisible by 100, unless it is also divisible by 400.\n",
    "        This means that the year 2000 is a leap year because it is divisible by 400, but the year 1900 is not a leap year because it is divisible by 100 but not by 400.'''\n",
    "        return True\n",
    "    else:\n",
    "        return False\n",
    "\n",
    "# Test the function\n",
    "print(\"2020 is a leap year:\", is_leap_year(2020))\n",
    "print(\"2021 is a leap year:\", is_leap_year(2021))"
   ]
  },
  {
   "cell_type": "markdown",
   "metadata": {},
   "source": [
    "**Question 18:** Write a Python program to reverse a string."
   ]
  },
  {
   "cell_type": "code",
   "execution_count": 18,
   "metadata": {},
   "outputs": [
    {
     "name": "stdout",
     "output_type": "stream",
     "text": [
      "Reversed string of 'Python' is: nohtyp\n",
      "Reversed string is: noihtyp\n"
     ]
    }
   ],
   "source": [
    "# write a python program to reverse a string\n",
    "def reverse_string(s):\n",
    "    return s[::-1]\n",
    "\n",
    "# Test the function\n",
    "print(\"Reversed string of 'Python' is:\", reverse_string(\"python\"))\n",
    "#do it taking input from the user\n",
    "user_string = input(\"Enter a string: \")\n",
    "print(\"Reversed string is:\", reverse_string(user_string))"
   ]
  },
  {
   "cell_type": "markdown",
   "metadata": {},
   "source": [
    "**Question 19:** Write a Python program to check if a string is a palindrome."
   ]
  },
  {
   "cell_type": "code",
   "execution_count": 21,
   "metadata": {},
   "outputs": [
    {
     "name": "stdout",
     "output_type": "stream",
     "text": [
      "Is 'A man a plan a canal Panama' a palindrome? True   Length of the string is :  27\n",
      "Is the string a palindrome? True\n",
      "Length of the string is :  27\n"
     ]
    }
   ],
   "source": [
    "# Write a Python program to check if a string is a palindrome.\n",
    "def is_palindrome(s):\n",
    "    s = s.replace(\" \", \"\").lower()  # Remove spaces and convert to lowercase\n",
    "    return s == s[::-1]\n",
    "def string_length(s):\n",
    "    return len(s)\n",
    "# Test the function\n",
    "print(\"Is 'A man a plan a canal Panama' a palindrome?\", is_palindrome(\"A man a plan a canal Panama\"),\" \", \"Length of the string is : \", string_length(\"A man a plan a canal Panama\"))\n",
    "\n",
    "# do it taking input from the user\n",
    "user_string = input(\"Enter a string: \")\n",
    "print(\"Is the string a palindrome?\", is_palindrome(user_string))\n",
    "print(\"Length of the string is : \", string_length(user_string))"
   ]
  },
  {
   "cell_type": "markdown",
   "metadata": {},
   "source": [
    "**Question 20:** Write a Python program to sort a list of numbers in ascending order."
   ]
  },
  {
   "cell_type": "code",
   "execution_count": 22,
   "metadata": {},
   "outputs": [
    {
     "name": "stdout",
     "output_type": "stream",
     "text": [
      "Sorted list is: [1, 2, 5, 5, 6, 9]\n",
      "Sorted list is: [5, 6, 7, 8, 9]\n"
     ]
    }
   ],
   "source": [
    "# Write a Python program to sort a list of numbers in ascending order.\n",
    "def sort_numbers(numbers):\n",
    "    return sorted(numbers)\n",
    "\n",
    "# Test the function\n",
    "print(\"Sorted list is:\", sort_numbers([5, 2, 9, 1, 5, 6]))\n",
    "\n",
    "# do it taking input from the user\n",
    "user_input = input(\"Enter a list of numbers separated by spaces: \")\n",
    "user_numbers = list(map(int, user_input.split()))\n",
    "print(\"Sorted list is:\", sort_numbers(user_numbers))"
   ]
  }
 ],
 "metadata": {
  "kernelspec": {
   "display_name": "Python 3",
   "language": "python",
   "name": "python3"
  },
  "language_info": {
   "codemirror_mode": {
    "name": "ipython",
    "version": 3
   },
   "file_extension": ".py",
   "mimetype": "text/x-python",
   "name": "python",
   "nbconvert_exporter": "python",
   "pygments_lexer": "ipython3",
   "version": "3.12.0"
  }
 },
 "nbformat": 4,
 "nbformat_minor": 4
}
