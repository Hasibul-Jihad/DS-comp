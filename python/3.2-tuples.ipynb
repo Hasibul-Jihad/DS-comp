{
 "cells": [
  {
   "cell_type": "code",
   "execution_count": 2,
   "id": "67b19d36",
   "metadata": {},
   "outputs": [
    {
     "name": "stdout",
     "output_type": "stream",
     "text": [
      "(1, 2, 3, 'a', 'b', 'c')\n",
      "('a', 'b', 'c', 'a', 'b', 'c', 'a', 'b', 'c')\n"
     ]
    }
   ],
   "source": [
    "#concatenating mixed tuples\n",
    "tuple1 = (1, 2, 3)\n",
    "tuple2 = ('a', 'b', 'c')\n",
    "concatenated = tuple1 + tuple2\n",
    "print(concatenated)\n",
    "\n",
    "tuple2 * 3\n",
    "print(tuple2 * 3)"
   ]
  },
  {
   "cell_type": "code",
   "execution_count": null,
   "id": "c4434562",
   "metadata": {},
   "outputs": [
    {
     "ename": "TypeError",
     "evalue": "'tuple' object does not support item assignment",
     "output_type": "error",
     "traceback": [
      "\u001b[31m---------------------------------------------------------------------------\u001b[39m",
      "\u001b[31mTypeError\u001b[39m                                 Traceback (most recent call last)",
      "\u001b[36mCell\u001b[39m\u001b[36m \u001b[39m\u001b[32mIn[3]\u001b[39m\u001b[32m, line 3\u001b[39m\n\u001b[32m      1\u001b[39m \u001b[38;5;66;03m#immutable - cannot change the values inside a tuple with example\u001b[39;00m\n\u001b[32m      2\u001b[39m tuple1 = (\u001b[32m1\u001b[39m, \u001b[32m2\u001b[39m, \u001b[32m3\u001b[39m)\n\u001b[32m----> \u001b[39m\u001b[32m3\u001b[39m \u001b[43mtuple1\u001b[49m\u001b[43m[\u001b[49m\u001b[32;43m0\u001b[39;49m\u001b[43m]\u001b[49m = \u001b[32m10\u001b[39m  \u001b[38;5;66;03m# This will raise a TypeError\u001b[39;00m\n",
      "\u001b[31mTypeError\u001b[39m: 'tuple' object does not support item assignment"
     ]
    }
   ],
   "source": [
    "#immutable - cannot change the values inside a tuple with example\n",
    "tuple1 = (1, 2, 3)\n",
    "#tuple1[0] = 10  # This will raise a TypeError"
   ]
  },
  {
   "cell_type": "code",
   "execution_count": null,
   "id": "b9f6fab4",
   "metadata": {},
   "outputs": [
    {
     "name": "stdout",
     "output_type": "stream",
     "text": [
      "x: 10\n",
      "y: 20\n",
      "(10, 20)\n",
      "10\n",
      "20\n"
     ]
    }
   ],
   "source": [
    "#packing and unpacking tuples\n",
    "point = (10, 20)\n",
    "x, y = point\n",
    "print(\"x:\", x)\n",
    "print(\"y:\", y)\n",
    "print(point)"
   ]
  },
  {
   "cell_type": "code",
   "execution_count": 6,
   "id": "789f483e",
   "metadata": {},
   "outputs": [
    {
     "name": "stdout",
     "output_type": "stream",
     "text": [
      "First: 1\n",
      "Middle: [2, 3, 4]\n",
      "Last: 5\n"
     ]
    }
   ],
   "source": [
    "#unpacking with *\n",
    "numbers = (1, 2, 3, 4, 5)\n",
    "first, *middle, last = numbers\n",
    "print(\"First:\", first)\n",
    "print(\"Middle:\", middle)\n",
    "print(\"Last:\", last)"
   ]
  },
  {
   "cell_type": "code",
   "execution_count": null,
   "id": "3e40b331",
   "metadata": {},
   "outputs": [
    {
     "name": "stdout",
     "output_type": "stream",
     "text": [
      "[[1, 2], [3, 4], [5, 6]]\n",
      "3\n",
      "[[1, 2], [3, 4], [5, 6, 7]]\n",
      "[[8, 9], [3, 4], [5, 6, 7]]\n",
      "[[8, 9], [10, 11], [5, 6, 7]]\n",
      "((1, 2), (3, 4), (5, 6))\n"
     ]
    }
   ],
   "source": [
    "#nested lists\n",
    "nested_list = [[1, 2], [3, 4], [5, 6]]\n",
    "print(nested_list)\n",
    "nested_list[1][0]  # Accessing the first element of the second list\n",
    "print(nested_list[1][0])\n",
    "nested_list[2].append(7)  # Adding an element to the third list\n",
    "print(nested_list)\n",
    "nested_list[0] = [8, 9]  # Modifying the first list\n",
    "print(nested_list)\n",
    "nested_list[1][0:2] = [10, 11]  # Modifying elements in the second list\n",
    "print(nested_list)\n",
    "\n",
    "\n",
    "#nested tuples\n",
    "nested = ((1, 2), (3, 4), (5, 6))\n",
    "print(nested)"
   ]
  },
  {
   "cell_type": "code",
   "execution_count": 11,
   "id": "c4f9dd78",
   "metadata": {},
   "outputs": [
    {
     "name": "stdout",
     "output_type": "stream",
     "text": [
      "((1, 2, 3), ('a', 'b', 'c'), (False, True))\n",
      "c\n",
      "(1, 2, 3, 4, 5)\n",
      "(False, True, False, True)\n",
      "(2, 3)\n",
      "3\n"
     ]
    }
   ],
   "source": [
    "#nested tuple using integer, string and true/false tuples individually\n",
    "nested = ((1,2,3), ('a', 'b','c'), (False, True))\n",
    "print(nested)\n",
    "print(nested[1][2])  # Accessing the third element of the second tuple\n",
    "print(nested[0] + (4, 5))  # Concatenating to the first tuple\n",
    "print(nested[2] * 2)  # Repeating the third tuple\n",
    "print(nested[0][1:3])  # Slicing the first tuple\n",
    "print(len(nested))  # Length of the outer tuple\n"
   ]
  },
  {
   "cell_type": "code",
   "execution_count": 12,
   "id": "f2cddb13",
   "metadata": {},
   "outputs": [
    {
     "name": "stdout",
     "output_type": "stream",
     "text": [
      "1\n",
      "2\n",
      "3\n",
      "a\n",
      "b\n",
      "c\n",
      "False\n",
      "True\n"
     ]
    }
   ],
   "source": [
    "#iterating through a list of nested tuples\n",
    "for inner_tuple in nested:\n",
    "    for item in inner_tuple:\n",
    "        print(item)\n",
    "# --- IGNORE ---"
   ]
  }
 ],
 "metadata": {
  "kernelspec": {
   "display_name": "Python 3",
   "language": "python",
   "name": "python3"
  },
  "language_info": {
   "codemirror_mode": {
    "name": "ipython",
    "version": 3
   },
   "file_extension": ".py",
   "mimetype": "text/x-python",
   "name": "python",
   "nbconvert_exporter": "python",
   "pygments_lexer": "ipython3",
   "version": "3.12.0"
  }
 },
 "nbformat": 4,
 "nbformat_minor": 5
}
