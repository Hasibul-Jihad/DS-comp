{
 "cells": [
  {
   "cell_type": "code",
   "execution_count": 3,
   "id": "697c0399",
   "metadata": {},
   "outputs": [
    {
     "name": "stdout",
     "output_type": "stream",
     "text": [
      "['finish homework', 'clean room', 'buy groceries', 'call mom']\n",
      "['finish homework', 'clean room', 'buy groceries', 'call mom', 'exercise']\n",
      "['finish homework', 'buy groceries', 'call mom', 'exercise']\n"
     ]
    }
   ],
   "source": [
    "#real world lists\n",
    "to_do = ['finish homework', 'clean room', 'buy groceries', 'call mom']\n",
    "print(to_do)\n",
    "\n",
    "# adding an item to the list\n",
    "to_do.append('exercise')\n",
    "print(to_do)\n",
    "\n",
    "# removing an item from the list\n",
    "to_do.remove('clean room')\n",
    "print(to_do)\n"
   ]
  },
  {
   "cell_type": "code",
   "execution_count": 4,
   "id": "a5b94c5e",
   "metadata": {},
   "outputs": [
    {
     "name": "stdout",
     "output_type": "stream",
     "text": [
      "Don't forget to call mom!\n",
      "to_do list remaining : \n",
      " - finish homework\n",
      " - buy groceries\n",
      " - call mom\n",
      " - exercise\n"
     ]
    }
   ],
   "source": [
    "\n",
    "#checking if an item is in the list\n",
    "if 'call mom' in to_do:\n",
    "    print(\"Don't forget to call mom!\")\n",
    "print(\"to_do list remaining : \")\n",
    "for task in to_do:\n",
    "    print(f\" - {task}\")\n"
   ]
  },
  {
   "cell_type": "code",
   "execution_count": 5,
   "id": "18e19f70",
   "metadata": {},
   "outputs": [
    {
     "name": "stdout",
     "output_type": "stream",
     "text": [
      "Grades: [88, 92, 79, 93, 85]\n",
      "Sorted Grades: [79, 85, 88, 92, 93]\n",
      "Updated Grades: [79, 85, 88, 92, 93, 90]\n",
      "Average Grade: 87.83\n",
      "Max Grade: 93\n",
      "Min Grade: 79\n"
     ]
    }
   ],
   "source": [
    "#organizing student grades\n",
    "grades = [88, 92, 79, 93, 85]\n",
    "print(\"Grades:\", grades)\n",
    "grades.sort()\n",
    "print(\"Sorted Grades:\", grades)\n",
    "grades.append(90)\n",
    "print(\"Updated Grades:\", grades)\n",
    "\n",
    "average_grade = sum(grades) / len(grades)\n",
    "print(f\"Average Grade: {average_grade:.2f}\")\n",
    "\n",
    "#finding out the max and min grades\n",
    "max_grade = max(grades)     \n",
    "min_grade = min(grades)\n",
    "print(f\"Max Grade: {max_grade}\")\n",
    "print(f\"Min Grade: {min_grade}\")\n"
   ]
  },
  {
   "cell_type": "code",
   "execution_count": 6,
   "id": "7f6d4c5d",
   "metadata": {},
   "outputs": [
    {
     "name": "stdout",
     "output_type": "stream",
     "text": [
      "Initial Inventory: ['sword', 'shield', 'potion']\n",
      "Updated Inventory: ['sword', 'shield', 'potion', 'bow']\n",
      "Final Inventory: ['sword', 'potion', 'bow']\n",
      "You have a potion in your inventory.\n"
     ]
    }
   ],
   "source": [
    "#managing an inventory\n",
    "inventory = ['sword', 'shield', 'potion']\n",
    "print(\"Initial Inventory:\", inventory)\n",
    "\n",
    "#adding an item\n",
    "inventory.append('bow')\n",
    "print(\"Updated Inventory:\", inventory)\n",
    "\n",
    "#removing an item\n",
    "inventory.remove('shield')\n",
    "print(\"Final Inventory:\", inventory)\n",
    "\n",
    "#checking if an item is in the inventory\n",
    "if 'potion' in inventory:\n",
    "    print(\"You have a potion in your inventory.\")\n",
    "# This script demonstrates basic list operations in Python through real-world examples.\n",
    "# It covers creating lists, adding/removing items, checking for item existence, and more."
   ]
  },
  {
   "cell_type": "code",
   "execution_count": 7,
   "id": "05fd5d6c",
   "metadata": {},
   "outputs": [
    {
     "name": "stdout",
     "output_type": "stream",
     "text": [
      "User Feedback: ['Great service!', 'Could be better.', 'Loved the experience.', 'Not satisfied.']\n",
      "Updated User Feedback: ['Great service!', 'Could be better.', 'Loved the experience.', 'Not satisfied.', 'Will visit again!']\n",
      "Number of positive feedbacks: 1\n",
      "- Great service!\n",
      "- Could be better.\n",
      "- Loved the experience.\n",
      "- Not satisfied.\n",
      "- Will visit again!\n"
     ]
    }
   ],
   "source": [
    "#collecting user feedback\n",
    "feedback = [ \"Great service!\", \"Could be better.\", \"Loved the experience.\", \"Not satisfied.\"]\n",
    "print(\"User Feedback:\", feedback)\n",
    "\n",
    "#adding new feedback\n",
    "feedback.append(\"Will visit again!\")\n",
    "print(\"Updated User Feedback:\", feedback)\n",
    "\n",
    "#counting specific feedback\n",
    "positive_count = feedback.count(\"Great service!\")\n",
    "print(f\"Number of positive feedbacks: {positive_count}\")\n",
    "\n",
    "#printing all feedback\n",
    "for feedback in feedback:\n",
    "    print(f\"- {feedback}\")\n",
    "\n"
   ]
  }
 ],
 "metadata": {
  "kernelspec": {
   "display_name": "Python 3",
   "language": "python",
   "name": "python3"
  },
  "language_info": {
   "codemirror_mode": {
    "name": "ipython",
    "version": 3
   },
   "file_extension": ".py",
   "mimetype": "text/x-python",
   "name": "python",
   "nbconvert_exporter": "python",
   "pygments_lexer": "ipython3",
   "version": "3.12.0"
  }
 },
 "nbformat": 4,
 "nbformat_minor": 5
}
