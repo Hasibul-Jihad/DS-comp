{
 "cells": [
  {
   "cell_type": "code",
   "execution_count": 2,
   "id": "af0aaff1",
   "metadata": {},
   "outputs": [
    {
     "name": "stdout",
     "output_type": "stream",
     "text": [
      "13 7 30 3.3333333333333335 3 1 1000\n",
      "<class 'int'> <class 'int'> <class 'int'> <class 'float'> <class 'int'> <class 'int'> <class 'int'>\n"
     ]
    }
   ],
   "source": [
    "#arithmetic operators\n",
    "a = 10\n",
    "b = 3\n",
    "add_result = a + b\n",
    "sub_result = a - b\n",
    "mul_result = a * b\n",
    "div_result = a / b\n",
    "floor_div_result = a // b\n",
    "mod_result = a % b\n",
    "exp_result = a ** b\n",
    "print(add_result, sub_result, mul_result, div_result, floor_div_result, mod_result, exp_result)\n",
    "print(type(add_result), type(sub_result), type(mul_result), type(div_result), type(floor_div_result), type(mod_result), type(exp_result))"
   ]
  },
  {
   "cell_type": "code",
   "execution_count": 3,
   "id": "f4280d79",
   "metadata": {},
   "outputs": [
    {
     "name": "stdout",
     "output_type": "stream",
     "text": [
      "False True False True False True\n",
      "<class 'bool'> <class 'bool'> <class 'bool'> <class 'bool'> <class 'bool'> <class 'bool'>\n"
     ]
    }
   ],
   "source": [
    "#comparison operators\n",
    "c = 5\n",
    "d = 10\n",
    "eq_result = c == d\n",
    "ne_result = c != d\n",
    "gt_result = c > d\n",
    "lt_result = c < d\n",
    "ge_result = c >= d\n",
    "le_result = c <= d\n",
    "print(eq_result, ne_result, gt_result, lt_result, ge_result, le_result)\n",
    "print(type(eq_result), type(ne_result), type(gt_result), type(lt_result), type(ge_result), type(le_result))"
   ]
  },
  {
   "cell_type": "code",
   "execution_count": 4,
   "id": "c237702f",
   "metadata": {},
   "outputs": [
    {
     "name": "stdout",
     "output_type": "stream",
     "text": [
      "False True False True False True\n",
      "<class 'bool'> <class 'bool'> <class 'bool'> <class 'bool'> <class 'bool'> <class 'bool'>\n"
     ]
    }
   ],
   "source": [
    "#comparison operators with strings\n",
    "s1 = \"apple\"\n",
    "s2 = \"banana\"\n",
    "eq_result = s1 == s2\n",
    "ne_result = s1 != s2\n",
    "gt_result = s1 > s2\n",
    "lt_result = s1 < s2\n",
    "ge_result = s1 >= s2\n",
    "le_result = s1 <= s2\n",
    "print(eq_result, ne_result, gt_result, lt_result, ge_result, le_result)\n",
    "print(type(eq_result), type(ne_result), type(gt_result), type(lt_result), type(ge_result), type(le_result))"
   ]
  },
  {
   "cell_type": "code",
   "execution_count": 5,
   "id": "c025bbf2",
   "metadata": {},
   "outputs": [
    {
     "name": "stdout",
     "output_type": "stream",
     "text": [
      "False True False\n",
      "<class 'bool'> <class 'bool'> <class 'bool'> <class 'bool'> <class 'bool'>\n"
     ]
    }
   ],
   "source": [
    "#logical operators - and, or, not\n",
    "t = True\n",
    "u = False\n",
    "and_result = t and u\n",
    "or_result = t or u\n",
    "not_result = not t\n",
    "print(and_result, or_result, not_result)\n",
    "print(type(t), type(u), type(and_result), type(or_result), type(not_result))"
   ]
  }
 ],
 "metadata": {
  "kernelspec": {
   "display_name": "Python 3",
   "language": "python",
   "name": "python3"
  },
  "language_info": {
   "codemirror_mode": {
    "name": "ipython",
    "version": 3
   },
   "file_extension": ".py",
   "mimetype": "text/x-python",
   "name": "python",
   "nbconvert_exporter": "python",
   "pygments_lexer": "ipython3",
   "version": "3.12.0"
  }
 },
 "nbformat": 4,
 "nbformat_minor": 5
}
