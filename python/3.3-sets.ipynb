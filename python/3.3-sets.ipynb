{
 "cells": [
  {
   "cell_type": "code",
   "execution_count": 1,
   "id": "145e6d38",
   "metadata": {},
   "outputs": [
    {
     "name": "stdout",
     "output_type": "stream",
     "text": [
      "{1, 2, 3}\n",
      "set()\n",
      "{1, 2, 3, 4}\n"
     ]
    }
   ],
   "source": [
    "#create a set\n",
    "my_set = {1, 2, 3}\n",
    "print(my_set)\n",
    "\n",
    "#empty set\n",
    "empty_set = set()\n",
    "print(empty_set)\n",
    "\n",
    "#duplicate values will be ignored\n",
    "my_set = {1, 2, 2, 3, 4, 4}\n",
    "print(my_set)"
   ]
  },
  {
   "cell_type": "code",
   "execution_count": 4,
   "id": "bc809307",
   "metadata": {},
   "outputs": [
    {
     "name": "stdout",
     "output_type": "stream",
     "text": [
      "{1, 2, 3, 4}\n",
      "{1, 3, 4}\n",
      "{1, 3, 4}\n",
      "{3, 4}\n",
      "2\n",
      "{1, 2, 3, 4, 5}\n",
      "{3}\n",
      "{1, 2}\n",
      "set a is: {3}\n",
      "set a is: set()\n",
      "False\n",
      "{0, 1, 4, 9, 16}\n"
     ]
    }
   ],
   "source": [
    "#basic set operations\n",
    "my_set = {1, 2, 3}\n",
    "\n",
    "my_set.add(4)\n",
    "print(my_set)\n",
    "\n",
    "my_set.remove(2)\n",
    "print(my_set)\n",
    "\n",
    "my_set.discard(5)  # does not raise an error if the element is not found\n",
    "print(my_set)\n",
    "\n",
    "my_set.pop()  # removes and returns an arbitrary element\n",
    "print(my_set)\n",
    "print(len(my_set))\n",
    "\n",
    "#union, intersection, difference\n",
    "set_a = {1, 2, 3}\n",
    "set_b = {3, 4, 5}\n",
    "\n",
    "#union\n",
    "print(set_a | set_b)\n",
    "#intersection\n",
    "print(set_a & set_b)\n",
    "#difference\n",
    "print(set_a - set_b)\n",
    "\n",
    "#intersection update\n",
    "set_a &= set_b\n",
    "print(\"set a is:\", set_a)\n",
    "\n",
    "#difference update\n",
    "set_a -= set_b\n",
    "print(\"set a is:\", set_a)\n",
    "\n",
    "#membership testing\n",
    "print(3 in set_a)\n",
    "#set comprehension\n",
    "squared_set = {x**2 for x in range(5)}\n",
    "print(squared_set)"
   ]
  },
  {
   "cell_type": "code",
   "execution_count": 5,
   "id": "d53c85e2",
   "metadata": {},
   "outputs": [
    {
     "name": "stdout",
     "output_type": "stream",
     "text": [
      "{1, 2, 4, 5}\n"
     ]
    }
   ],
   "source": [
    "#symmetric difference\n",
    "set_c = {1, 2, 3}\n",
    "set_d = {3, 4, 5}\n",
    "print(set_c ^ set_d)    "
   ]
  },
  {
   "cell_type": "code",
   "execution_count": 7,
   "id": "6f848577",
   "metadata": {},
   "outputs": [
    {
     "name": "stdout",
     "output_type": "stream",
     "text": [
      "{1, 2, 3, 4, 5}\n",
      "{3}\n",
      "{1, 2}\n",
      "{1, 2, 4, 5}\n",
      "False\n",
      "False\n"
     ]
    }
   ],
   "source": [
    "#set methods\n",
    "set_a = {1, 2, 3}\n",
    "set_b = {3, 4, 5}\n",
    "\n",
    "#union\n",
    "print(set_a.union(set_b))\n",
    "#intersection\n",
    "print(set_a.intersection(set_b))\n",
    "#difference\n",
    "print(set_a.difference(set_b))\n",
    "#symmetric difference\n",
    "print(set_a.symmetric_difference(set_b))    \n",
    "#is subset\n",
    "print(set_a.issubset(set_b))\n",
    "\n",
    "#superset\n",
    "print(set_a.issuperset(set_b))"
   ]
  },
  {
   "cell_type": "code",
   "execution_count": 8,
   "id": "2f2f1a21",
   "metadata": {},
   "outputs": [
    {
     "name": "stdout",
     "output_type": "stream",
     "text": [
      "Unique words: {'sample', 'just', 'a', 'several', 'This', 'sample.', 'text', 'words.', 'with', 'is'}\n"
     ]
    }
   ],
   "source": [
    "#counting unique words in text\n",
    "text = \"This is a sample text with several words. This text is just a sample.\"\n",
    "words = text.split()\n",
    "unique_words = set(words)\n",
    "print(\"Unique words:\", unique_words)"
   ]
  },
  {
   "cell_type": "code",
   "execution_count": 10,
   "id": "232fb80c",
   "metadata": {},
   "outputs": [
    {
     "name": "stdout",
     "output_type": "stream",
     "text": [
      "{'banana', 'apple', 'orange'}\n"
     ]
    }
   ],
   "source": [
    "#convert list of words to set\n",
    "words_list = [\"apple\", \"banana\", \"apple\", \"orange\", \"banana\"]\n",
    "words_set = set(words_list)\n",
    "print(words_set)"
   ]
  }
 ],
 "metadata": {
  "kernelspec": {
   "display_name": "Python 3",
   "language": "python",
   "name": "python3"
  },
  "language_info": {
   "codemirror_mode": {
    "name": "ipython",
    "version": 3
   },
   "file_extension": ".py",
   "mimetype": "text/x-python",
   "name": "python",
   "nbconvert_exporter": "python",
   "pygments_lexer": "ipython3",
   "version": "3.12.0"
  }
 },
 "nbformat": 4,
 "nbformat_minor": 5
}
